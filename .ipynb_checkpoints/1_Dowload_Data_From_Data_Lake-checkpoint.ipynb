{
 "cells": [
  {
   "cell_type": "markdown",
   "metadata": {},
   "source": [
    "# Daily data"
   ]
  },
  {
   "cell_type": "code",
   "execution_count": null,
   "metadata": {},
   "outputs": [],
   "source": [
    "Query=\"\"\"\n",
    "WITH tidy_tree AS (\n",
    " SELECT distinct\n",
    "  category_id,root_category_name,sub_category_name_de,category_name_de\n",
    "  from dl_inventory_intelligence_prod.tidy_category_tree\n",
    "  )\n",
    "  \n",
    "SELECT\n",
    "date_format(date(date),'%Y-%m-%d') AS  day,\n",
    "root_category_name,\n",
    "sub_category_name_de,\n",
    "sum(pageimpression_oop) as pageimpression_oop,\n",
    "sum(leadouts_oop)+ sum(checkouts_oop) as LOCO_OOP\n",
    "FROM dl_inventory_intelligence_prod.kpi_product a \n",
    "join tidy_tree t on a.category_id=t.category_id\n",
    "where site like '%idealo.de%' and date < '2021-09-01'\n",
    "and sub_category_name_de like 'Garten'\n",
    "group by 1,2,3\n",
    "order by 1,2,3\n",
    "\"\"\""
   ]
  },
  {
   "cell_type": "markdown",
   "metadata": {},
   "source": [
    "# Hourly data"
   ]
  },
  {
   "cell_type": "code",
   "execution_count": null,
   "metadata": {},
   "outputs": [],
   "source": [
    "Query=\"\"\"\n",
    "WITH tidy_tree AS (\n",
    " SELECT distinct\n",
    "  category_id,root_category_name,sub_category_name_de,category_name_de\n",
    "  from dl_inventory_intelligence_prod.tidy_category_tree\n",
    "  )\n",
    "  \n",
    "SELECT\n",
    "date_format(date(date),'%Y-%m-%d') AS  day,\n",
    "hour,\n",
    "root_category_name,\n",
    "sub_category_name_de,\n",
    "sum(pageimpression_oop) as pageimpression_oop,\n",
    "sum(leadouts_oop)+ sum(checkouts_oop) as LOCO_OOP\n",
    "FROM dl_inventory_intelligence_prod.kpi_product a \n",
    "join tidy_tree t on a.category_id=t.category_id\n",
    "where site like '%idealo.de%' and date < '2021-09-01'\n",
    "and sub_category_name_de like 'Garten'\n",
    "group by 1,2,3,4\n",
    "order by 1,2,3,4\n",
    "\"\"\""
   ]
  }
 ],
 "metadata": {
  "kernelspec": {
   "display_name": "Python 3 (ipykernel)",
   "language": "python",
   "name": "python3"
  },
  "language_info": {
   "codemirror_mode": {
    "name": "ipython",
    "version": 3
   },
   "file_extension": ".py",
   "mimetype": "text/x-python",
   "name": "python",
   "nbconvert_exporter": "python",
   "pygments_lexer": "ipython3",
   "version": "3.9.5"
  }
 },
 "nbformat": 4,
 "nbformat_minor": 2
}
