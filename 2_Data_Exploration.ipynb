{
 "cells": [
  {
   "cell_type": "code",
   "execution_count": 2,
   "metadata": {},
   "outputs": [],
   "source": [
    "import pandas as pd"
   ]
  },
  {
   "cell_type": "code",
   "execution_count": 27,
   "metadata": {},
   "outputs": [
    {
     "data": {
      "text/html": [
       "<div>\n",
       "<style scoped>\n",
       "    .dataframe tbody tr th:only-of-type {\n",
       "        vertical-align: middle;\n",
       "    }\n",
       "\n",
       "    .dataframe tbody tr th {\n",
       "        vertical-align: top;\n",
       "    }\n",
       "\n",
       "    .dataframe thead th {\n",
       "        text-align: right;\n",
       "    }\n",
       "</style>\n",
       "<table border=\"1\" class=\"dataframe\">\n",
       "  <thead>\n",
       "    <tr style=\"text-align: right;\">\n",
       "      <th></th>\n",
       "      <th>day</th>\n",
       "      <th>root_category_name</th>\n",
       "      <th>sub_category_name_de</th>\n",
       "      <th>pageimpression_oop</th>\n",
       "      <th>LOCO_OOP</th>\n",
       "    </tr>\n",
       "  </thead>\n",
       "  <tbody>\n",
       "    <tr>\n",
       "      <td>0</td>\n",
       "      <td>2019-07-01</td>\n",
       "      <td>Haus &amp; Garten</td>\n",
       "      <td>Garten</td>\n",
       "      <td>186747</td>\n",
       "      <td>60144</td>\n",
       "    </tr>\n",
       "    <tr>\n",
       "      <td>1</td>\n",
       "      <td>2019-07-02</td>\n",
       "      <td>Haus &amp; Garten</td>\n",
       "      <td>Garten</td>\n",
       "      <td>158335</td>\n",
       "      <td>49904</td>\n",
       "    </tr>\n",
       "    <tr>\n",
       "      <td>2</td>\n",
       "      <td>2019-07-03</td>\n",
       "      <td>Haus &amp; Garten</td>\n",
       "      <td>Garten</td>\n",
       "      <td>148102</td>\n",
       "      <td>47184</td>\n",
       "    </tr>\n",
       "    <tr>\n",
       "      <td>3</td>\n",
       "      <td>2019-07-04</td>\n",
       "      <td>Haus &amp; Garten</td>\n",
       "      <td>Garten</td>\n",
       "      <td>142714</td>\n",
       "      <td>44817</td>\n",
       "    </tr>\n",
       "    <tr>\n",
       "      <td>4</td>\n",
       "      <td>2019-07-05</td>\n",
       "      <td>Haus &amp; Garten</td>\n",
       "      <td>Garten</td>\n",
       "      <td>130476</td>\n",
       "      <td>40403</td>\n",
       "    </tr>\n",
       "  </tbody>\n",
       "</table>\n",
       "</div>"
      ],
      "text/plain": [
       "          day root_category_name sub_category_name_de  pageimpression_oop  \\\n",
       "0  2019-07-01      Haus & Garten               Garten              186747   \n",
       "1  2019-07-02      Haus & Garten               Garten              158335   \n",
       "2  2019-07-03      Haus & Garten               Garten              148102   \n",
       "3  2019-07-04      Haus & Garten               Garten              142714   \n",
       "4  2019-07-05      Haus & Garten               Garten              130476   \n",
       "\n",
       "   LOCO_OOP  \n",
       "0     60144  \n",
       "1     49904  \n",
       "2     47184  \n",
       "3     44817  \n",
       "4     40403  "
      ]
     },
     "execution_count": 27,
     "metadata": {},
     "output_type": "execute_result"
    }
   ],
   "source": [
    "df = pd.read_csv(\"data/demand_data.csv\")\n",
    "df.head()"
   ]
  },
  {
   "cell_type": "code",
   "execution_count": 28,
   "metadata": {},
   "outputs": [
    {
     "data": {
      "text/plain": [
       "day                     object\n",
       "root_category_name      object\n",
       "sub_category_name_de    object\n",
       "pageimpression_oop       int64\n",
       "LOCO_OOP                 int64\n",
       "dtype: object"
      ]
     },
     "execution_count": 28,
     "metadata": {},
     "output_type": "execute_result"
    }
   ],
   "source": [
    "df.dtypes"
   ]
  },
  {
   "cell_type": "code",
   "execution_count": 30,
   "metadata": {},
   "outputs": [
    {
     "data": {
      "text/html": [
       "<div>\n",
       "<style scoped>\n",
       "    .dataframe tbody tr th:only-of-type {\n",
       "        vertical-align: middle;\n",
       "    }\n",
       "\n",
       "    .dataframe tbody tr th {\n",
       "        vertical-align: top;\n",
       "    }\n",
       "\n",
       "    .dataframe thead th {\n",
       "        text-align: right;\n",
       "    }\n",
       "</style>\n",
       "<table border=\"1\" class=\"dataframe\">\n",
       "  <thead>\n",
       "    <tr style=\"text-align: right;\">\n",
       "      <th></th>\n",
       "      <th>pageimpression_oop</th>\n",
       "      <th>LOCO_OOP</th>\n",
       "      <th>date</th>\n",
       "    </tr>\n",
       "  </thead>\n",
       "  <tbody>\n",
       "    <tr>\n",
       "      <td>0</td>\n",
       "      <td>186747</td>\n",
       "      <td>60144</td>\n",
       "      <td>2019-07-01</td>\n",
       "    </tr>\n",
       "    <tr>\n",
       "      <td>1</td>\n",
       "      <td>158335</td>\n",
       "      <td>49904</td>\n",
       "      <td>2019-07-02</td>\n",
       "    </tr>\n",
       "    <tr>\n",
       "      <td>2</td>\n",
       "      <td>148102</td>\n",
       "      <td>47184</td>\n",
       "      <td>2019-07-03</td>\n",
       "    </tr>\n",
       "    <tr>\n",
       "      <td>3</td>\n",
       "      <td>142714</td>\n",
       "      <td>44817</td>\n",
       "      <td>2019-07-04</td>\n",
       "    </tr>\n",
       "    <tr>\n",
       "      <td>4</td>\n",
       "      <td>130476</td>\n",
       "      <td>40403</td>\n",
       "      <td>2019-07-05</td>\n",
       "    </tr>\n",
       "  </tbody>\n",
       "</table>\n",
       "</div>"
      ],
      "text/plain": [
       "   pageimpression_oop  LOCO_OOP       date\n",
       "0              186747     60144 2019-07-01\n",
       "1              158335     49904 2019-07-02\n",
       "2              148102     47184 2019-07-03\n",
       "3              142714     44817 2019-07-04\n",
       "4              130476     40403 2019-07-05"
      ]
     },
     "execution_count": 30,
     "metadata": {},
     "output_type": "execute_result"
    }
   ],
   "source": [
    "df['date'] = pd.to_datetime(df['day'])\n",
    "df = df.drop([\"day\", \"sub_category_name_de\", \"root_category_name\"], axis=1)\n",
    "df.head()"
   ]
  },
  {
   "cell_type": "code",
   "execution_count": 33,
   "metadata": {},
   "outputs": [
    {
     "data": {
      "text/plain": [
       "<matplotlib.axes._subplots.AxesSubplot at 0x7fad8264c810>"
      ]
     },
     "execution_count": 33,
     "metadata": {},
     "output_type": "execute_result"
    },
    {
     "data": {
      "image/png": "[encoded data removed]",
      "text/plain": [
       "<Figure size 432x288 with 1 Axes>"
      ]
     },
     "metadata": {
      "needs_background": "light"
     },
     "output_type": "display_data"
    }
   ],
   "source": [
    "df.plot(x=\"date\", y=[\"pageimpression_oop\", \"LOCO_OOP\"], style='.-')"
   ]
  },
  {
   "cell_type": "code",
   "execution_count": null,
   "metadata": {},
   "outputs": [],
   "source": []
  }
 ],
 "metadata": {
  "interpreter": {
   "hash": "2196c79fbff62179f0469902fafc9ed384bd463191ae396a47f2dae113229b98"
  },
  "kernelspec": {
   "display_name": "Python 3",
   "language": "python",
   "name": "python3"
  },
  "language_info": {
   "codemirror_mode": {
    "name": "ipython",
    "version": 3
   },
   "file_extension": ".py",
   "mimetype": "text/x-python",
   "name": "python",
   "nbconvert_exporter": "python",
   "pygments_lexer": "ipython3",
   "version": "3.8.5"
  }
 },
 "nbformat": 4,
 "nbformat_minor": 2
}
