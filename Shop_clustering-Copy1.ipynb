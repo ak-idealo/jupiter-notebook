{
 "cells": [
  {
   "cell_type": "markdown",
   "metadata": {},
   "source": [
    "# querying the data lake in a jupyter notebook"
   ]
  },
  {
   "cell_type": "markdown",
   "metadata": {},
   "source": [
    "## prerequisites"
   ]
  },
  {
   "cell_type": "markdown",
   "metadata": {},
   "source": [
    "make sure you have `pip install presto-python-client` and `pandas` and `matplotlib` installed.\n",
    "you may do that via `pip install <name from above>`"
   ]
  },
  {
   "cell_type": "code",
   "execution_count": 1,
   "metadata": {
    "slideshow": {
     "slide_type": "slide"
    }
   },
   "outputs": [],
   "source": [
    "import prestodb"
   ]
  },
  {
   "cell_type": "code",
   "execution_count": 2,
   "metadata": {
    "slideshow": {
     "slide_type": "slide"
    }
   },
   "outputs": [],
   "source": [
    "conn = prestodb.dbapi.connect(\n",
    "    host='presto.apps.eu.idealo.com',\n",
    "    port=80, user='false',\n",
    "    catalog='hive',\n",
    "    schema='default')"
   ]
  },
  {
   "cell_type": "markdown",
   "metadata": {},
   "source": [
    "## creating a cursor object instance"
   ]
  },
  {
   "cell_type": "code",
   "execution_count": 3,
   "metadata": {},
   "outputs": [
    {
     "data": {
      "text/plain": [
       "['arraysize',\n",
       " 'cancel',\n",
       " 'close',\n",
       " 'connection',\n",
       " 'description',\n",
       " 'execute',\n",
       " 'executemany',\n",
       " 'fetchall',\n",
       " 'fetchmany',\n",
       " 'fetchone',\n",
       " 'genall',\n",
       " 'rowcount',\n",
       " 'setinputsizes',\n",
       " 'setoutputsize',\n",
       " 'stats']"
      ]
     },
     "execution_count": 3,
     "metadata": {},
     "output_type": "execute_result"
    }
   ],
   "source": [
    "# create the cursor\n",
    "cur = conn.cursor()\n",
    "# cursor objects functions and attributes\n",
    "[thing for thing in dir(cur) if '_' not in thing]"
   ]
  },
  {
   "cell_type": "markdown",
   "metadata": {},
   "source": [
    "## exploring the schemas and tables"
   ]
  },
  {
   "cell_type": "markdown",
   "metadata": {},
   "source": [
    "## creating a cursor and querying"
   ]
  },
  {
   "cell_type": "markdown",
   "metadata": {},
   "source": [
    "query can be highlighted in markdown code blocks (between triple backtics \\`\\`\\`) for better readability\n",
    "```sql\n",
    "SELECT * \n",
    "FROM \"dl_dwh_prod\".\"so_facts\"\n",
    "WHERE random(1000) = 1\n",
    "limit 1000\n",
    "```"
   ]
  },
  {
   "cell_type": "code",
   "execution_count": 4,
   "metadata": {
    "slideshow": {
     "slide_type": "slide"
    }
   },
   "outputs": [
    {
     "name": "stdout",
     "output_type": "stream",
     "text": [
      "Total rows are:  53856\n"
     ]
    }
   ],
   "source": [
    "cur.execute('''\n",
    "WITH current_category_tree AS(\n",
    "WITH current_category_tree AS ( \n",
    "  SELECT id, parent_category_id, root_category_id, root_category_name \n",
    "  FROM \"dl_inventory_analytics_prod\".\"category_tree\" \n",
    "  WHERE date_parse(year||'-'||month||'-'||day, '%Y-%m-%d') = current_date - interval '1' day \n",
    "  ), \n",
    "  \n",
    "  current_categories AS (\n",
    "    SELECT COALESCE(element_at(context_singular_names, 'de_DE'),  \n",
    "           element_at(context_singular_names, 'de'),  \n",
    "           element_at(context_singular_names, '')) AS category_name,\n",
    "    id\n",
    "    FROM \"dl_inventory_analytics_prod\".\"categories\" cat\n",
    "    WHERE date_parse(cat.year||'-'||cat.month||'-'||cat.day, '%Y-%m-%d') = current_date - interval '1' day \n",
    "    )\n",
    "    \n",
    "-- tidy_tree AS ( \n",
    "  SELECT roots.root_category_id,\n",
    "  a.id as sub_category_id, \n",
    "  b.id as sub_2_category_id,\n",
    "  c.id as sub_3_category_id,\n",
    "  d.id as sub_4_category_id,\n",
    "  COALESCE(e.id, d.id, c.id, b.id, a.id, CAST(roots.root_category_id AS varchar)) AS bottom_category_id,\n",
    "  roots.root_category_name, \n",
    "  aa.category_name AS sub_category_name, \n",
    "  bb.category_name AS sub_2_category_name, \n",
    "  cc.category_name AS sub_3_category_name, \n",
    "  dd.category_name AS sub_4_category_name, \n",
    "  ee.category_name AS bottom_category_name\n",
    "  FROM (SELECT DISTINCT root_category_id, root_category_name FROM current_category_tree) roots \n",
    "  LEFT JOIN current_category_tree a \n",
    "  ON a.parent_category_id = roots.root_category_id \n",
    "  LEFT JOIN current_category_tree b \n",
    "  ON CAST(b.parent_category_id AS varchar) = a.id \n",
    "  LEFT JOIN current_category_tree c \n",
    "  ON CAST(c.parent_category_id AS varchar) = b.id \n",
    "  LEFT JOIN current_category_tree d \n",
    "  ON CAST(d.parent_category_id AS varchar) = c.id \n",
    "  LEFT JOIN current_category_tree e \n",
    "  ON CAST(e.parent_category_id AS varchar) = d.id \n",
    "  LEFT JOIN current_categories aa \n",
    "  ON aa.id = a.id \n",
    "  LEFT JOIN current_categories bb \n",
    "  ON bb.id = b.id \n",
    "  LEFT JOIN current_categories cc \n",
    "  ON cc.id = c.id \n",
    "  LEFT JOIN current_categories dd \n",
    "  ON dd.id = d.id \n",
    "  LEFT JOIN current_categories ee \n",
    "  ON ee.id = COALESCE(e.id, d.id, c.id, b.id, a.id, CAST(roots.root_category_id AS varchar))\n",
    "  ),\n",
    " \n",
    "    cvr as (\n",
    "    SELECT date_utc AS date,\n",
    "         root_category_name,\n",
    "         sub_category_name,\n",
    "         bottom_category_name,\n",
    "         bottom_category_id,\n",
    "         sum(if(page_template = 'OffersOfProduct'\n",
    "            AND status = 200\n",
    "            AND page_type = 'pageimpression'\n",
    "            AND script_name NOT LIKE '/offerpage/context/local/refresh/%',1,0)) AS pageimpressions_oop, \n",
    "            sum(CASE\n",
    "        WHEN (leadout_type = 'OFFER'\n",
    "            AND status = 301\n",
    "            AND page_type = 'leadout'\n",
    "            AND leadout_click_bokey IS NOT NULL) THEN\n",
    "        1\n",
    "        ELSE 0 END) AS leadouts_oop, \n",
    "        sum(CASE\n",
    "        WHEN (leadout_type IN('OFFER', 'CHECKOUT')\n",
    "            AND status = 301\n",
    "            AND page_type = 'leadout'\n",
    "            AND leadout_click_bokey IS NOT NULL) THEN\n",
    "        1\n",
    "        ELSE 0 END) AS LOCO,\n",
    "      sum(CASE\n",
    "        WHEN (leadout_type = 'CHECKOUT'\n",
    "            AND status = 301\n",
    "            AND page_type = 'leadout'\n",
    "            AND leadout_click_bokey IS NOT NULL) THEN\n",
    "        1\n",
    "        ELSE 0 END) AS checkout\n",
    "    FROM \"dl_dwh_prod\".\"isg\" i\n",
    "    JOIN current_category_tree c\n",
    "        ON i.category_id=c.bottom_category_id\n",
    "    WHERE botstatus = 'user'\n",
    "            AND idealo_host = 'www.idealo.de'\n",
    "            AND media = 'www'\n",
    "            AND date_utc >= date('2021-01-01')\n",
    "            AND product_type != 'main'\n",
    "    GROUP BY  1,2,3,4,5\n",
    "    ORDER BY  1),\n",
    "    \n",
    "    \n",
    "  dk_coverage as (\n",
    "SELECT date_utc,\n",
    "category_id,\n",
    "sum(CASE WHEN try(offers[1].checkoutavailable) = 'true' OR try(offers[2].checkoutavailable) = 'true' OR try(offers[3].checkoutavailable) = 'true' THEN 1 ELSE 0 END) as top3_pi,\n",
    "sum(CASE WHEN excluded_dk != 'true' THEN 1 ELSE 0 END) as pageimpressions_oop_dkex\n",
    "FROM\n",
    "\"dl_dwh_prod\".\"isg\" i\n",
    "WHERE page_template = 'OffersOfProduct'\n",
    "AND page_type='pageimpression'\n",
    "AND status=200\n",
    "AND botstatus='user'\n",
    "AND media = 'www'\n",
    "AND idealo_host LIKE '%idealo.de'\n",
    "AND date_utc >= date('2021-01-01')\n",
    "AND script_name NOT LIKE '/offerpage/context/local/refresh/%'\n",
    "AND product_type != 'main'\n",
    "group by 1,2)\n",
    "\n",
    "select distinct a.date,\n",
    "a.root_category_name,\n",
    "a.sub_category_name,\n",
    "a.bottom_category_name,\n",
    "a.pageimpressions_oop,\n",
    "a.leadouts_oop,\n",
    "a.LOCO,\n",
    "a.checkout,\n",
    "top3_pi,\n",
    "pageimpressions_oop_dkex\n",
    "from cvr a join dk_coverage b on a.date=b.date_utc and a.bottom_category_id=b.category_id\n",
    "''') # this was a multiline string.\n",
    "records = cur.fetchall()\n",
    "print(\"Total rows are: \", len(records))"
   ]
  },
  {
   "cell_type": "code",
   "execution_count": 7,
   "metadata": {},
   "outputs": [
    {
     "data": {
      "text/plain": [
       "['date',\n",
       " 'root_category_name',\n",
       " 'sub_category_name',\n",
       " 'bottom_category_name',\n",
       " 'pageimpressions_oop',\n",
       " 'leadouts_oop',\n",
       " 'loco',\n",
       " 'checkout',\n",
       " 'top3_pi',\n",
       " 'pageimpressions_oop_dkex']"
      ]
     },
     "execution_count": 7,
     "metadata": {},
     "output_type": "execute_result"
    }
   ],
   "source": [
    "#getting colnames from description, which is a list of columns with header and their entries\n",
    "colnames = [col[0] for col in cur.description]\n",
    "colnames[0:15]"
   ]
  },
  {
   "cell_type": "markdown",
   "metadata": {},
   "source": [
    "## storing the results in a dataframe"
   ]
  },
  {
   "cell_type": "code",
   "execution_count": 14,
   "metadata": {},
   "outputs": [],
   "source": [
    "import pandas as pd\n",
    "import seaborn as sns\n",
    "import matplotlib.pyplot as plt\n",
    "import numpy as np"
   ]
  },
  {
   "cell_type": "code",
   "execution_count": 9,
   "metadata": {},
   "outputs": [],
   "source": [
    "df = pd.DataFrame(records, columns=colnames)"
   ]
  },
  {
   "cell_type": "code",
   "execution_count": 13,
   "metadata": {},
   "outputs": [
    {
     "data": {
      "text/html": [
       "<div>\n",
       "<style scoped>\n",
       "    .dataframe tbody tr th:only-of-type {\n",
       "        vertical-align: middle;\n",
       "    }\n",
       "\n",
       "    .dataframe tbody tr th {\n",
       "        vertical-align: top;\n",
       "    }\n",
       "\n",
       "    .dataframe thead th {\n",
       "        text-align: right;\n",
       "    }\n",
       "</style>\n",
       "<table border=\"1\" class=\"dataframe\">\n",
       "  <thead>\n",
       "    <tr style=\"text-align: right;\">\n",
       "      <th></th>\n",
       "      <th>date</th>\n",
       "      <th>root_category_name</th>\n",
       "      <th>sub_category_name</th>\n",
       "      <th>bottom_category_name</th>\n",
       "      <th>pageimpressions_oop</th>\n",
       "      <th>leadouts_oop</th>\n",
       "      <th>loco</th>\n",
       "      <th>checkout</th>\n",
       "      <th>top3_pi</th>\n",
       "      <th>pageimpressions_oop_dkex</th>\n",
       "      <th>CR1</th>\n",
       "      <th>CHR</th>\n",
       "      <th>DK_Coverage</th>\n",
       "    </tr>\n",
       "  </thead>\n",
       "  <tbody>\n",
       "    <tr>\n",
       "      <th>0</th>\n",
       "      <td>2021-01-01</td>\n",
       "      <td>Haus &amp; Garten</td>\n",
       "      <td>Garten</td>\n",
       "      <td>Gewächshaus-Zubehör</td>\n",
       "      <td>162</td>\n",
       "      <td>51</td>\n",
       "      <td>59</td>\n",
       "      <td>8</td>\n",
       "      <td>83</td>\n",
       "      <td>148</td>\n",
       "      <td>0.364198</td>\n",
       "      <td>0.049383</td>\n",
       "      <td>0.560811</td>\n",
       "    </tr>\n",
       "    <tr>\n",
       "      <th>1</th>\n",
       "      <td>2021-01-02</td>\n",
       "      <td>Elektroartikel</td>\n",
       "      <td>Computer</td>\n",
       "      <td>Access Point</td>\n",
       "      <td>1575</td>\n",
       "      <td>380</td>\n",
       "      <td>410</td>\n",
       "      <td>30</td>\n",
       "      <td>563</td>\n",
       "      <td>1520</td>\n",
       "      <td>0.260317</td>\n",
       "      <td>0.019048</td>\n",
       "      <td>0.370395</td>\n",
       "    </tr>\n",
       "  </tbody>\n",
       "</table>\n",
       "</div>"
      ],
      "text/plain": [
       "         date root_category_name sub_category_name bottom_category_name  \\\n",
       "0  2021-01-01      Haus & Garten            Garten  Gewächshaus-Zubehör   \n",
       "1  2021-01-02     Elektroartikel          Computer         Access Point   \n",
       "\n",
       "   pageimpressions_oop  leadouts_oop  loco  checkout  top3_pi  \\\n",
       "0                  162            51    59         8       83   \n",
       "1                 1575           380   410        30      563   \n",
       "\n",
       "   pageimpressions_oop_dkex       CR1       CHR  DK_Coverage  \n",
       "0                       148  0.364198  0.049383     0.560811  \n",
       "1                      1520  0.260317  0.019048     0.370395  "
      ]
     },
     "execution_count": 13,
     "metadata": {},
     "output_type": "execute_result"
    }
   ],
   "source": [
    "df.head(2)"
   ]
  },
  {
   "cell_type": "code",
   "execution_count": 12,
   "metadata": {},
   "outputs": [],
   "source": [
    "df['CR1']=df['loco']/df['pageimpressions_oop']\n",
    "df['CHR']=df['checkout']/df['pageimpressions_oop']\n",
    "df['DK_Coverage']=df['top3_pi']/df['pageimpressions_oop_dkex']"
   ]
  },
  {
   "cell_type": "code",
   "execution_count": 22,
   "metadata": {},
   "outputs": [],
   "source": [
    "df_1=df[['root_category_name','CR1','CHR','DK_Coverage']]"
   ]
  },
  {
   "cell_type": "code",
   "execution_count": 31,
   "metadata": {},
   "outputs": [
    {
     "data": {
      "image/png": "[encoded data removed]",
      "text/plain": [
       "<Figure size 1152x432 with 2 Axes>"
      ]
     },
     "metadata": {
      "needs_background": "light"
     },
     "output_type": "display_data"
    }
   ],
   "source": [
    "df_2=df_1[(df_1['root_category_name'] == 'Elektroartikel')]\n",
    "plt.figure(figsize=(16, 6))\n",
    "# define the mask to set the values in the upper triangle to True\n",
    "mask = np.triu(np.ones_like(df_2.corr(method='kendall'), dtype=np.bool))\n",
    "heatmap = sns.heatmap(df_2.corr(), mask=mask, vmin=-1, vmax=1, annot=True, cmap='BrBG')\n",
    "heatmap.set_title('Electroartikel', fontdict={'fontsize':18}, pad=16);"
   ]
  },
  {
   "cell_type": "code",
   "execution_count": 28,
   "metadata": {},
   "outputs": [
    {
     "data": {
      "image/png": "[encoded data removed]",
      "text/plain": [
       "<Figure size 1152x432 with 2 Axes>"
      ]
     },
     "metadata": {
      "needs_background": "light"
     },
     "output_type": "display_data"
    }
   ],
   "source": [
    "df_2=df_1[(df_1['root_category_name'] == 'Drogerie & Gesundheit')]\n",
    "plt.figure(figsize=(16, 6))\n",
    "# define the mask to set the values in the upper triangle to True\n",
    "mask = np.triu(np.ones_like(df_2.corr(), dtype=np.bool))\n",
    "heatmap = sns.heatmap(df_2.corr(), mask=mask, vmin=-1, vmax=1, annot=True, cmap='BrBG')\n",
    "heatmap.set_title('Drogerie & Gesundheit', fontdict={'fontsize':18}, pad=16);"
   ]
  },
  {
   "cell_type": "code",
   "execution_count": 17,
   "metadata": {},
   "outputs": [
    {
     "data": {
      "image/png": "[encoded data removed]",
      "text/plain": [
       "<Figure size 1152x432 with 2 Axes>"
      ]
     },
     "metadata": {
      "needs_background": "light"
     },
     "output_type": "display_data"
    }
   ],
   "source": [
    "plt.figure(figsize=(16, 6))\n",
    "# define the mask to set the values in the upper triangle to True\n",
    "mask = np.triu(np.ones_like(df_1.corr(), dtype=np.bool))\n",
    "heatmap = sns.heatmap(df_1.corr(), mask=mask, vmin=-1, vmax=1, annot=True, cmap='BrBG')\n",
    "heatmap.set_title('Triangle Correlation Heatmap', fontdict={'fontsize':18}, pad=16);"
   ]
  },
  {
   "cell_type": "code",
   "execution_count": null,
   "metadata": {},
   "outputs": [],
   "source": []
  }
 ],
 "metadata": {
  "kernelspec": {
   "display_name": "Python 3",
   "language": "python",
   "name": "python3"
  },
  "language_info": {
   "codemirror_mode": {
    "name": "ipython",
    "version": 3
   },
   "file_extension": ".py",
   "mimetype": "text/x-python",
   "name": "python",
   "nbconvert_exporter": "python",
   "pygments_lexer": "ipython3",
   "version": "3.8.5"
  }
 },
 "nbformat": 4,
 "nbformat_minor": 4
}
