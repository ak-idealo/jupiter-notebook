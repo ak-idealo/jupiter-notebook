{
 "cells": [
  {
   "cell_type": "markdown",
   "metadata": {},
   "source": [
    "# querying the data lake in a jupyter notebook"
   ]
  },
  {
   "cell_type": "markdown",
   "metadata": {},
   "source": [
    "## prerequisites"
   ]
  },
  {
   "cell_type": "markdown",
   "metadata": {},
   "source": [
    "make sure you have `pip install presto-python-client` and `pandas` and `matplotlib` installed.\n",
    "you may do that via `pip install <name from above>`"
   ]
  },
  {
   "cell_type": "code",
   "execution_count": 1,
   "metadata": {
    "slideshow": {
     "slide_type": "slide"
    }
   },
   "outputs": [],
   "source": [
    "import prestodb"
   ]
  },
  {
   "cell_type": "code",
   "execution_count": 2,
   "metadata": {
    "slideshow": {
     "slide_type": "slide"
    }
   },
   "outputs": [],
   "source": [
    "conn=prestodb.dbapi.connect(\n",
    "    host='presto.apps.eu.idealo.com',\n",
    "    port=443, user='aishwarya.kumar',\n",
    "    catalog='hive',\n",
    "    http_scheme='https',\n",
    "    schema='default',)"
   ]
  },
  {
   "cell_type": "code",
   "execution_count": 3,
   "metadata": {},
   "outputs": [
    {
     "data": {
      "text/plain": [
       "<prestodb.dbapi.Connection at 0x7fe7e13d2a30>"
      ]
     },
     "execution_count": 3,
     "metadata": {},
     "output_type": "execute_result"
    }
   ],
   "source": [
    "conn"
   ]
  },
  {
   "cell_type": "markdown",
   "metadata": {},
   "source": [
    "## creating a cursor object instance"
   ]
  },
  {
   "cell_type": "code",
   "execution_count": 4,
   "metadata": {},
   "outputs": [
    {
     "data": {
      "text/plain": [
       "['arraysize',\n",
       " 'cancel',\n",
       " 'close',\n",
       " 'connection',\n",
       " 'description',\n",
       " 'execute',\n",
       " 'executemany',\n",
       " 'fetchall',\n",
       " 'fetchmany',\n",
       " 'fetchone',\n",
       " 'genall',\n",
       " 'rowcount',\n",
       " 'setinputsizes',\n",
       " 'setoutputsize',\n",
       " 'stats']"
      ]
     },
     "execution_count": 4,
     "metadata": {},
     "output_type": "execute_result"
    }
   ],
   "source": [
    "# create the cursor\n",
    "cur = conn.cursor()\n",
    "# cursor objects functions and attributes\n",
    "[thing for thing in dir(cur) if '_' not in thing]"
   ]
  },
  {
   "cell_type": "markdown",
   "metadata": {},
   "source": [
    "## exploring the schemas and tables"
   ]
  },
  {
   "cell_type": "code",
   "execution_count": 5,
   "metadata": {},
   "outputs": [
    {
     "data": {
      "text/plain": [
       "[['fake_shop'],\n",
       " ['feed_quality_layer'],\n",
       " ['kpi_product'],\n",
       " ['kpi_shop'],\n",
       " ['merchant_dk'],\n",
       " ['pareto_clusters'],\n",
       " ['priceapi_processed'],\n",
       " ['tidy_category_tree']]"
      ]
     },
     "execution_count": 5,
     "metadata": {},
     "output_type": "execute_result"
    }
   ],
   "source": [
    "#schema either in double quotes or without quotes!\n",
    "cur.execute('''\n",
    "SHOW TABLES from \"dl_inventory_intelligence_prod\"\n",
    "''')\n",
    "records = cur.fetchall()\n",
    "list(records)"
   ]
  },
  {
   "cell_type": "markdown",
   "metadata": {},
   "source": [
    "## creating a cursor and querying"
   ]
  },
  {
   "cell_type": "markdown",
   "metadata": {},
   "source": [
    "query can be highlighted in markdown code blocks (between triple backtics \\`\\`\\`) for better readability\n",
    "```sql\n",
    "SELECT * \n",
    "FROM \"dl_dwh_prod\".\"so_facts\"\n",
    "WHERE random(1000) = 1\n",
    "limit 1000\n",
    "```"
   ]
  },
  {
   "cell_type": "markdown",
   "metadata": {},
   "source": [
    "## storing the results in a dataframe"
   ]
  },
  {
   "cell_type": "code",
   "execution_count": 6,
   "metadata": {},
   "outputs": [],
   "source": [
    "import pandas as pd"
   ]
  },
  {
   "cell_type": "code",
   "execution_count": 7,
   "metadata": {},
   "outputs": [
    {
     "name": "stdout",
     "output_type": "stream",
     "text": [
      "Total rows are:  2499\n"
     ]
    }
   ],
   "source": [
    "cur.execute('''\n",
    "WITH tidy_tree AS (\n",
    " SELECT distinct\n",
    "  category_id,root_category_name,sub_category_name_de,category_name_de\n",
    "  from dl_inventory_intelligence_prod.tidy_category_tree\n",
    "  )\n",
    "  \n",
    "SELECT\n",
    "date_format(date(date),'%Y-%m') AS  month_year,\n",
    "root_category_name,\n",
    "sub_category_name_de,\n",
    "sum(pageimpression_oop) as pageimpression_oop,\n",
    "sum(leadouts_oop)+ sum(checkouts_oop) as LOCO_OOP\n",
    "FROM \"dl_inventory_intelligence_prod\".\"kpi_product\" a \n",
    "join tidy_tree t on a.category_id=t.category_id\n",
    "where site like '%idealo.de%'\n",
    "group by 1,2,3\n",
    "order by 1,2,3\n",
    "''') # this was a multiline string.\n",
    "records = cur.fetchall()\n",
    "print(\"Total rows are: \", len(records))"
   ]
  },
  {
   "cell_type": "code",
   "execution_count": 8,
   "metadata": {},
   "outputs": [],
   "source": [
    "#getting colnames from description, which is a list of columns with header and their entries\n",
    "colnames = [col[0] for col in cur.description]\n",
    "colnames[0:5]\n",
    "#creating dataframe\n",
    "df = pd.DataFrame(records, columns=colnames)\n",
    "df['date'] = pd.to_datetime(df['month_year'])"
   ]
  },
  {
   "cell_type": "code",
   "execution_count": 10,
   "metadata": {},
   "outputs": [
    {
     "data": {
      "text/html": [
       "<div>\n",
       "<style scoped>\n",
       "    .dataframe tbody tr th:only-of-type {\n",
       "        vertical-align: middle;\n",
       "    }\n",
       "\n",
       "    .dataframe tbody tr th {\n",
       "        vertical-align: top;\n",
       "    }\n",
       "\n",
       "    .dataframe thead th {\n",
       "        text-align: right;\n",
       "    }\n",
       "</style>\n",
       "<table border=\"1\" class=\"dataframe\">\n",
       "  <thead>\n",
       "    <tr style=\"text-align: right;\">\n",
       "      <th></th>\n",
       "      <th>month_year</th>\n",
       "      <th>root_category_name</th>\n",
       "      <th>sub_category_name_de</th>\n",
       "      <th>pageimpression_oop</th>\n",
       "      <th>LOCO_OOP</th>\n",
       "      <th>date</th>\n",
       "    </tr>\n",
       "  </thead>\n",
       "  <tbody>\n",
       "    <tr>\n",
       "      <th>0</th>\n",
       "      <td>2019-07</td>\n",
       "      <td>Auto &amp; Motorrad</td>\n",
       "      <td>Anhänger &amp; Trägersysteme</td>\n",
       "      <td>302769.0</td>\n",
       "      <td>102122.0</td>\n",
       "      <td>2019-07-01</td>\n",
       "    </tr>\n",
       "    <tr>\n",
       "      <th>1</th>\n",
       "      <td>2019-07</td>\n",
       "      <td>Auto &amp; Motorrad</td>\n",
       "      <td>Auto Tuning</td>\n",
       "      <td>0.0</td>\n",
       "      <td>0.0</td>\n",
       "      <td>2019-07-01</td>\n",
       "    </tr>\n",
       "    <tr>\n",
       "      <th>2</th>\n",
       "      <td>2019-07</td>\n",
       "      <td>Auto &amp; Motorrad</td>\n",
       "      <td>Auto-Werkstattausstattung</td>\n",
       "      <td>39920.0</td>\n",
       "      <td>11170.0</td>\n",
       "      <td>2019-07-01</td>\n",
       "    </tr>\n",
       "    <tr>\n",
       "      <th>3</th>\n",
       "      <td>2019-07</td>\n",
       "      <td>Auto &amp; Motorrad</td>\n",
       "      <td>Autopflege</td>\n",
       "      <td>61489.0</td>\n",
       "      <td>12077.0</td>\n",
       "      <td>2019-07-01</td>\n",
       "    </tr>\n",
       "    <tr>\n",
       "      <th>4</th>\n",
       "      <td>2019-07</td>\n",
       "      <td>Auto &amp; Motorrad</td>\n",
       "      <td>Autoteil</td>\n",
       "      <td>138994.0</td>\n",
       "      <td>45818.0</td>\n",
       "      <td>2019-07-01</td>\n",
       "    </tr>\n",
       "  </tbody>\n",
       "</table>\n",
       "</div>"
      ],
      "text/plain": [
       "  month_year root_category_name       sub_category_name_de  \\\n",
       "0    2019-07    Auto & Motorrad   Anhänger & Trägersysteme   \n",
       "1    2019-07    Auto & Motorrad                Auto Tuning   \n",
       "2    2019-07    Auto & Motorrad  Auto-Werkstattausstattung   \n",
       "3    2019-07    Auto & Motorrad                 Autopflege   \n",
       "4    2019-07    Auto & Motorrad                   Autoteil   \n",
       "\n",
       "   pageimpression_oop  LOCO_OOP       date  \n",
       "0            302769.0  102122.0 2019-07-01  \n",
       "1                 0.0       0.0 2019-07-01  \n",
       "2             39920.0   11170.0 2019-07-01  \n",
       "3             61489.0   12077.0 2019-07-01  \n",
       "4            138994.0   45818.0 2019-07-01  "
      ]
     },
     "execution_count": 10,
     "metadata": {},
     "output_type": "execute_result"
    }
   ],
   "source": [
    "df.head(5)"
   ]
  },
  {
   "cell_type": "code",
   "execution_count": 11,
   "metadata": {
    "scrolled": true
   },
   "outputs": [
    {
     "data": {
      "text/plain": [
       "array([[<AxesSubplot:title={'center':'pageimpression_oop'}>]],\n",
       "      dtype=object)"
      ]
     },
     "execution_count": 11,
     "metadata": {},
     "output_type": "execute_result"
    },
    {
     "data": {
      "image/png": "[encoded data removed]",
      "text/plain": [
       "<Figure size 432x288 with 1 Axes>"
      ]
     },
     "metadata": {
      "needs_background": "light"
     },
     "output_type": "display_data"
    }
   ],
   "source": [
    "df.hist(column='pageimpression_oop', range=[1,10000],bins=20)"
   ]
  },
  {
   "cell_type": "code",
   "execution_count": 12,
   "metadata": {},
   "outputs": [
    {
     "data": {
      "text/plain": [
       "<AxesSubplot:xlabel='month_year'>"
      ]
     },
     "execution_count": 12,
     "metadata": {},
     "output_type": "execute_result"
    },
    {
     "data": {
      "image/png": "[encoded data removed]",
      "text/plain": [
       "<Figure size 432x288 with 1 Axes>"
      ]
     },
     "metadata": {
      "needs_background": "light"
     },
     "output_type": "display_data"
    }
   ],
   "source": [
    "subset=df[(df.sub_category_name_de==\"Garten\")]\n",
    "subset.plot( 'month_year' , 'pageimpression_oop' )"
   ]
  },
  {
   "cell_type": "code",
   "execution_count": 13,
   "metadata": {},
   "outputs": [
    {
     "ename": "KeyError",
     "evalue": "'year'",
     "output_type": "error",
     "traceback": [
      "\u001b[0;31m---------------------------------------------------------------------------\u001b[0m",
      "\u001b[0;31mKeyError\u001b[0m                                  Traceback (most recent call last)",
      "\u001b[0;32m<ipython-input-13-6f3edea28f81>\u001b[0m in \u001b[0;36m<module>\u001b[0;34m\u001b[0m\n\u001b[0;32m----> 1\u001b[0;31m \u001b[0msub_cat\u001b[0m\u001b[0;34m=\u001b[0m\u001b[0mdf\u001b[0m\u001b[0;34m.\u001b[0m\u001b[0mgroupby\u001b[0m\u001b[0;34m(\u001b[0m\u001b[0;34m[\u001b[0m\u001b[0;34m'month_year'\u001b[0m\u001b[0;34m,\u001b[0m\u001b[0;34m'year'\u001b[0m\u001b[0;34m,\u001b[0m\u001b[0;34m'sub_category_name_de'\u001b[0m\u001b[0;34m]\u001b[0m\u001b[0;34m,\u001b[0m\u001b[0mas_index\u001b[0m\u001b[0;34m=\u001b[0m\u001b[0;32mFalse\u001b[0m\u001b[0;34m)\u001b[0m\u001b[0;34m.\u001b[0m\u001b[0mpageimpression_oop\u001b[0m\u001b[0;34m.\u001b[0m\u001b[0msum\u001b[0m\u001b[0;34m(\u001b[0m\u001b[0;34m)\u001b[0m\u001b[0;34m\u001b[0m\u001b[0;34m\u001b[0m\u001b[0m\n\u001b[0m\u001b[1;32m      2\u001b[0m \u001b[0;34m\u001b[0m\u001b[0m\n\u001b[1;32m      3\u001b[0m \u001b[0mroot_cat\u001b[0m\u001b[0;34m=\u001b[0m\u001b[0mdf\u001b[0m\u001b[0;34m.\u001b[0m\u001b[0mgroupby\u001b[0m\u001b[0;34m(\u001b[0m\u001b[0;34m[\u001b[0m\u001b[0;34m'month_year'\u001b[0m\u001b[0;34m,\u001b[0m\u001b[0;34m'year'\u001b[0m\u001b[0;34m,\u001b[0m\u001b[0;34m'root_category_name'\u001b[0m\u001b[0;34m]\u001b[0m\u001b[0;34m,\u001b[0m\u001b[0mas_index\u001b[0m\u001b[0;34m=\u001b[0m\u001b[0;32mFalse\u001b[0m\u001b[0;34m)\u001b[0m\u001b[0;34m.\u001b[0m\u001b[0mpageimpression_oop\u001b[0m\u001b[0;34m.\u001b[0m\u001b[0msum\u001b[0m\u001b[0;34m(\u001b[0m\u001b[0;34m)\u001b[0m\u001b[0;34m\u001b[0m\u001b[0;34m\u001b[0m\u001b[0m\n",
      "\u001b[0;32m~/opt/anaconda3/lib/python3.8/site-packages/pandas/core/frame.py\u001b[0m in \u001b[0;36mgroupby\u001b[0;34m(self, by, axis, level, as_index, sort, group_keys, squeeze, observed, dropna)\u001b[0m\n\u001b[1;32m   6509\u001b[0m         \u001b[0maxis\u001b[0m \u001b[0;34m=\u001b[0m \u001b[0mself\u001b[0m\u001b[0;34m.\u001b[0m\u001b[0m_get_axis_number\u001b[0m\u001b[0;34m(\u001b[0m\u001b[0maxis\u001b[0m\u001b[0;34m)\u001b[0m\u001b[0;34m\u001b[0m\u001b[0;34m\u001b[0m\u001b[0m\n\u001b[1;32m   6510\u001b[0m \u001b[0;34m\u001b[0m\u001b[0m\n\u001b[0;32m-> 6511\u001b[0;31m         return DataFrameGroupBy(\n\u001b[0m\u001b[1;32m   6512\u001b[0m             \u001b[0mobj\u001b[0m\u001b[0;34m=\u001b[0m\u001b[0mself\u001b[0m\u001b[0;34m,\u001b[0m\u001b[0;34m\u001b[0m\u001b[0;34m\u001b[0m\u001b[0m\n\u001b[1;32m   6513\u001b[0m             \u001b[0mkeys\u001b[0m\u001b[0;34m=\u001b[0m\u001b[0mby\u001b[0m\u001b[0;34m,\u001b[0m\u001b[0;34m\u001b[0m\u001b[0;34m\u001b[0m\u001b[0m\n",
      "\u001b[0;32m~/opt/anaconda3/lib/python3.8/site-packages/pandas/core/groupby/groupby.py\u001b[0m in \u001b[0;36m__init__\u001b[0;34m(self, obj, keys, axis, level, grouper, exclusions, selection, as_index, sort, group_keys, squeeze, observed, mutated, dropna)\u001b[0m\n\u001b[1;32m    523\u001b[0m             \u001b[0;32mfrom\u001b[0m \u001b[0mpandas\u001b[0m\u001b[0;34m.\u001b[0m\u001b[0mcore\u001b[0m\u001b[0;34m.\u001b[0m\u001b[0mgroupby\u001b[0m\u001b[0;34m.\u001b[0m\u001b[0mgrouper\u001b[0m \u001b[0;32mimport\u001b[0m \u001b[0mget_grouper\u001b[0m\u001b[0;34m\u001b[0m\u001b[0;34m\u001b[0m\u001b[0m\n\u001b[1;32m    524\u001b[0m \u001b[0;34m\u001b[0m\u001b[0m\n\u001b[0;32m--> 525\u001b[0;31m             grouper, exclusions, obj = get_grouper(\n\u001b[0m\u001b[1;32m    526\u001b[0m                 \u001b[0mobj\u001b[0m\u001b[0;34m,\u001b[0m\u001b[0;34m\u001b[0m\u001b[0;34m\u001b[0m\u001b[0m\n\u001b[1;32m    527\u001b[0m                 \u001b[0mkeys\u001b[0m\u001b[0;34m,\u001b[0m\u001b[0;34m\u001b[0m\u001b[0;34m\u001b[0m\u001b[0m\n",
      "\u001b[0;32m~/opt/anaconda3/lib/python3.8/site-packages/pandas/core/groupby/grouper.py\u001b[0m in \u001b[0;36mget_grouper\u001b[0;34m(obj, key, axis, level, sort, observed, mutated, validate, dropna)\u001b[0m\n\u001b[1;32m    779\u001b[0m                 \u001b[0min_axis\u001b[0m\u001b[0;34m,\u001b[0m \u001b[0mname\u001b[0m\u001b[0;34m,\u001b[0m \u001b[0mlevel\u001b[0m\u001b[0;34m,\u001b[0m \u001b[0mgpr\u001b[0m \u001b[0;34m=\u001b[0m \u001b[0;32mFalse\u001b[0m\u001b[0;34m,\u001b[0m \u001b[0;32mNone\u001b[0m\u001b[0;34m,\u001b[0m \u001b[0mgpr\u001b[0m\u001b[0;34m,\u001b[0m \u001b[0;32mNone\u001b[0m\u001b[0;34m\u001b[0m\u001b[0;34m\u001b[0m\u001b[0m\n\u001b[1;32m    780\u001b[0m             \u001b[0;32melse\u001b[0m\u001b[0;34m:\u001b[0m\u001b[0;34m\u001b[0m\u001b[0;34m\u001b[0m\u001b[0m\n\u001b[0;32m--> 781\u001b[0;31m                 \u001b[0;32mraise\u001b[0m \u001b[0mKeyError\u001b[0m\u001b[0;34m(\u001b[0m\u001b[0mgpr\u001b[0m\u001b[0;34m)\u001b[0m\u001b[0;34m\u001b[0m\u001b[0;34m\u001b[0m\u001b[0m\n\u001b[0m\u001b[1;32m    782\u001b[0m         \u001b[0;32melif\u001b[0m \u001b[0misinstance\u001b[0m\u001b[0;34m(\u001b[0m\u001b[0mgpr\u001b[0m\u001b[0;34m,\u001b[0m \u001b[0mGrouper\u001b[0m\u001b[0;34m)\u001b[0m \u001b[0;32mand\u001b[0m \u001b[0mgpr\u001b[0m\u001b[0;34m.\u001b[0m\u001b[0mkey\u001b[0m \u001b[0;32mis\u001b[0m \u001b[0;32mnot\u001b[0m \u001b[0;32mNone\u001b[0m\u001b[0;34m:\u001b[0m\u001b[0;34m\u001b[0m\u001b[0;34m\u001b[0m\u001b[0m\n\u001b[1;32m    783\u001b[0m             \u001b[0;31m# Add key to exclusions\u001b[0m\u001b[0;34m\u001b[0m\u001b[0;34m\u001b[0m\u001b[0;34m\u001b[0m\u001b[0m\n",
      "\u001b[0;31mKeyError\u001b[0m: 'year'"
     ]
    }
   ],
   "source": [
    "sub_cat=df.groupby(['month_year','year','sub_category_name_de'],as_index=False).pageimpression_oop.sum()\n",
    "\n",
    "root_cat=df.groupby(['month_year','year','root_category_name'],as_index=False).pageimpression_oop.sum()"
   ]
  },
  {
   "cell_type": "code",
   "execution_count": 14,
   "metadata": {},
   "outputs": [
    {
     "data": {
      "text/html": [
       "<div>\n",
       "<style scoped>\n",
       "    .dataframe tbody tr th:only-of-type {\n",
       "        vertical-align: middle;\n",
       "    }\n",
       "\n",
       "    .dataframe tbody tr th {\n",
       "        vertical-align: top;\n",
       "    }\n",
       "\n",
       "    .dataframe thead th {\n",
       "        text-align: right;\n",
       "    }\n",
       "</style>\n",
       "<table border=\"1\" class=\"dataframe\">\n",
       "  <thead>\n",
       "    <tr style=\"text-align: right;\">\n",
       "      <th></th>\n",
       "      <th>pageimpression_oop</th>\n",
       "    </tr>\n",
       "    <tr>\n",
       "      <th>date</th>\n",
       "      <th></th>\n",
       "    </tr>\n",
       "  </thead>\n",
       "  <tbody>\n",
       "    <tr>\n",
       "      <th>2019-07</th>\n",
       "      <td>4256061.0</td>\n",
       "    </tr>\n",
       "    <tr>\n",
       "      <th>2019-08</th>\n",
       "      <td>3278541.0</td>\n",
       "    </tr>\n",
       "    <tr>\n",
       "      <th>2019-09</th>\n",
       "      <td>2457913.0</td>\n",
       "    </tr>\n",
       "    <tr>\n",
       "      <th>2019-10</th>\n",
       "      <td>2137127.0</td>\n",
       "    </tr>\n",
       "    <tr>\n",
       "      <th>2019-11</th>\n",
       "      <td>2105234.0</td>\n",
       "    </tr>\n",
       "    <tr>\n",
       "      <th>2019-12</th>\n",
       "      <td>1712171.0</td>\n",
       "    </tr>\n",
       "    <tr>\n",
       "      <th>2020-01</th>\n",
       "      <td>2046163.0</td>\n",
       "    </tr>\n",
       "    <tr>\n",
       "      <th>2020-02</th>\n",
       "      <td>2660371.0</td>\n",
       "    </tr>\n",
       "    <tr>\n",
       "      <th>2020-03</th>\n",
       "      <td>6160898.0</td>\n",
       "    </tr>\n",
       "    <tr>\n",
       "      <th>2020-04</th>\n",
       "      <td>15860204.0</td>\n",
       "    </tr>\n",
       "    <tr>\n",
       "      <th>2020-05</th>\n",
       "      <td>13579616.0</td>\n",
       "    </tr>\n",
       "    <tr>\n",
       "      <th>2020-06</th>\n",
       "      <td>10197406.0</td>\n",
       "    </tr>\n",
       "    <tr>\n",
       "      <th>2020-07</th>\n",
       "      <td>7743884.0</td>\n",
       "    </tr>\n",
       "    <tr>\n",
       "      <th>2020-08</th>\n",
       "      <td>7055242.0</td>\n",
       "    </tr>\n",
       "    <tr>\n",
       "      <th>2020-09</th>\n",
       "      <td>4199970.0</td>\n",
       "    </tr>\n",
       "    <tr>\n",
       "      <th>2020-10</th>\n",
       "      <td>3881750.0</td>\n",
       "    </tr>\n",
       "    <tr>\n",
       "      <th>2020-11</th>\n",
       "      <td>4556663.0</td>\n",
       "    </tr>\n",
       "    <tr>\n",
       "      <th>2020-12</th>\n",
       "      <td>3533866.0</td>\n",
       "    </tr>\n",
       "    <tr>\n",
       "      <th>2021-01</th>\n",
       "      <td>4285670.0</td>\n",
       "    </tr>\n",
       "    <tr>\n",
       "      <th>2021-02</th>\n",
       "      <td>5684250.0</td>\n",
       "    </tr>\n",
       "    <tr>\n",
       "      <th>2021-03</th>\n",
       "      <td>8619833.0</td>\n",
       "    </tr>\n",
       "    <tr>\n",
       "      <th>2021-04</th>\n",
       "      <td>10733550.0</td>\n",
       "    </tr>\n",
       "    <tr>\n",
       "      <th>2021-05</th>\n",
       "      <td>11082937.0</td>\n",
       "    </tr>\n",
       "    <tr>\n",
       "      <th>2021-06</th>\n",
       "      <td>10401072.0</td>\n",
       "    </tr>\n",
       "    <tr>\n",
       "      <th>2021-07</th>\n",
       "      <td>6904526.0</td>\n",
       "    </tr>\n",
       "    <tr>\n",
       "      <th>2021-08</th>\n",
       "      <td>831144.0</td>\n",
       "    </tr>\n",
       "  </tbody>\n",
       "</table>\n",
       "</div>"
      ],
      "text/plain": [
       "         pageimpression_oop\n",
       "date                       \n",
       "2019-07           4256061.0\n",
       "2019-08           3278541.0\n",
       "2019-09           2457913.0\n",
       "2019-10           2137127.0\n",
       "2019-11           2105234.0\n",
       "2019-12           1712171.0\n",
       "2020-01           2046163.0\n",
       "2020-02           2660371.0\n",
       "2020-03           6160898.0\n",
       "2020-04          15860204.0\n",
       "2020-05          13579616.0\n",
       "2020-06          10197406.0\n",
       "2020-07           7743884.0\n",
       "2020-08           7055242.0\n",
       "2020-09           4199970.0\n",
       "2020-10           3881750.0\n",
       "2020-11           4556663.0\n",
       "2020-12           3533866.0\n",
       "2021-01           4285670.0\n",
       "2021-02           5684250.0\n",
       "2021-03           8619833.0\n",
       "2021-04          10733550.0\n",
       "2021-05          11082937.0\n",
       "2021-06          10401072.0\n",
       "2021-07           6904526.0\n",
       "2021-08            831144.0"
      ]
     },
     "execution_count": 14,
     "metadata": {},
     "output_type": "execute_result"
    }
   ],
   "source": [
    "subset\n",
    "subset_1=subset[['date','pageimpression_oop']].set_index(\"date\").to_period(\"M\")\n",
    "subset_1"
   ]
  },
  {
   "cell_type": "code",
   "execution_count": 15,
   "metadata": {
    "scrolled": true
   },
   "outputs": [
    {
     "name": "stderr",
     "output_type": "stream",
     "text": [
      "<ipython-input-15-5d6d131128b7>:2: FutureWarning: The pandas.datetime class is deprecated and will be removed from pandas in a future version. Import from datetime module instead.\n",
      "  from pandas import datetime\n"
     ]
    },
    {
     "data": {
      "image/png": "[encoded data removed]",
      "text/plain": [
       "<Figure size 432x288 with 1 Axes>"
      ]
     },
     "metadata": {
      "needs_background": "light"
     },
     "output_type": "display_data"
    }
   ],
   "source": [
    "\n",
    "from pandas import read_csv\n",
    "from pandas import datetime\n",
    "from matplotlib import pyplot\n",
    "from pandas.plotting import autocorrelation_plot\n",
    "\n",
    "\n",
    "def parser(x):\n",
    "    return datetime.strptime(x, '%Y-%m')\n",
    "\n",
    "#my_series = subset['pageimpression_oop'].squeeze()\n",
    "#series = read_csv('shampoo-sales.csv', header=0, parse_dates=[0], index_col=0, squeeze=True, date_parser=parser)\n",
    "#autocorrelation_plot(my_series)\n",
    "#pyplot.show()\n",
    "\n",
    "from statsmodels.graphics.tsaplots import plot_acf\n",
    "#data[\"diff\"].iloc[0] = 0\n",
    "plot_acf(subset[\"pageimpression_oop\"])\n",
    "pyplot.show()\n",
    "\n",
    "#lag=2\n"
   ]
  },
  {
   "cell_type": "code",
   "execution_count": null,
   "metadata": {},
   "outputs": [],
   "source": []
  },
  {
   "cell_type": "code",
   "execution_count": 16,
   "metadata": {},
   "outputs": [
    {
     "data": {
      "image/png": "[encoded data removed]",
      "text/plain": [
       "<Figure size 1080x576 with 3 Axes>"
      ]
     },
     "metadata": {
      "needs_background": "light"
     },
     "output_type": "display_data"
    }
   ],
   "source": [
    "from statsmodels.tsa.seasonal import seasonal_decompose\n",
    "\n",
    "res = seasonal_decompose(subset_1, model = \"additive\",period = 12)\n",
    "\n",
    "fig, (ax1,ax2,ax3) = pyplot.subplots(3,1, figsize=(15,8))\n",
    "res.trend.plot(ax=ax1,ylabel = \"trend\")\n",
    "res.resid.plot(ax=ax2,ylabel = \"seasoanlity\")\n",
    "res.seasonal.plot(ax=ax3,ylabel = \"residual\")\n",
    "pyplot.show()"
   ]
  },
  {
   "cell_type": "code",
   "execution_count": 89,
   "metadata": {},
   "outputs": [],
   "source": [
    "from statsmodels.tsa.stattools import adfuller"
   ]
  },
  {
   "cell_type": "code",
   "execution_count": 114,
   "metadata": {},
   "outputs": [],
   "source": [
    "test_result=adfuller(subset['pageimpression_oop'])"
   ]
  },
  {
   "cell_type": "code",
   "execution_count": 133,
   "metadata": {},
   "outputs": [
    {
     "name": "stdout",
     "output_type": "stream",
     "text": [
      "ADF Test Statistic : -2.8545018397357995\n",
      "p-value : 0.050900403692769144\n",
      "#Lags Used : 1\n",
      "Number of Observations : 24\n",
      "weak evidence against null hypothesis,indicating it is non-stationary \n"
     ]
    }
   ],
   "source": [
    "def adfuller_test(sales):\n",
    "    result=adfuller(sales)\n",
    "    labels = ['ADF Test Statistic','p-value','#Lags Used','Number of Observations']\n",
    "    for value,label in zip(result,labels):\n",
    "        print(label+' : '+str(value) )\n",
    "\n",
    "    if result[1] <= 0.05:\n",
    "        print(\"strong evidence against the null hypothesis(Ho), reject the null hypothesis. Data is stationary\")\n",
    "    else:\n",
    "        print(\"weak evidence against null hypothesis,indicating it is non-stationary \")\n",
    "\n",
    "adfuller_test(subset['pageimpression_oop'])"
   ]
  },
  {
   "cell_type": "code",
   "execution_count": 134,
   "metadata": {},
   "outputs": [
    {
     "name": "stderr",
     "output_type": "stream",
     "text": [
      "<ipython-input-134-235b3d2c6af2>:1: SettingWithCopyWarning: \n",
      "A value is trying to be set on a copy of a slice from a DataFrame.\n",
      "Try using .loc[row_indexer,col_indexer] = value instead\n",
      "\n",
      "See the caveats in the documentation: https://pandas.pydata.org/pandas-docs/stable/user_guide/indexing.html#returning-a-view-versus-a-copy\n",
      "  subset['PI First Difference'] = subset['pageimpression_oop'] - subset['pageimpression_oop'].shift(1)\n",
      "<ipython-input-134-235b3d2c6af2>:2: SettingWithCopyWarning: \n",
      "A value is trying to be set on a copy of a slice from a DataFrame.\n",
      "Try using .loc[row_indexer,col_indexer] = value instead\n",
      "\n",
      "See the caveats in the documentation: https://pandas.pydata.org/pandas-docs/stable/user_guide/indexing.html#returning-a-view-versus-a-copy\n",
      "  subset['Seasonal First Difference']=subset['pageimpression_oop']-subset['pageimpression_oop'].shift(12)\n",
      "<ipython-input-134-235b3d2c6af2>:3: SettingWithCopyWarning: \n",
      "A value is trying to be set on a copy of a slice from a DataFrame.\n",
      "Try using .loc[row_indexer,col_indexer] = value instead\n",
      "\n",
      "See the caveats in the documentation: https://pandas.pydata.org/pandas-docs/stable/user_guide/indexing.html#returning-a-view-versus-a-copy\n",
      "  subset['Seasonal First Difference Difference'] = subset['Seasonal First Difference'] - subset['Seasonal First Difference'].shift(1)\n"
     ]
    },
    {
     "data": {
      "text/html": [
       "<div>\n",
       "<style scoped>\n",
       "    .dataframe tbody tr th:only-of-type {\n",
       "        vertical-align: middle;\n",
       "    }\n",
       "\n",
       "    .dataframe tbody tr th {\n",
       "        vertical-align: top;\n",
       "    }\n",
       "\n",
       "    .dataframe thead th {\n",
       "        text-align: right;\n",
       "    }\n",
       "</style>\n",
       "<table border=\"1\" class=\"dataframe\">\n",
       "  <thead>\n",
       "    <tr style=\"text-align: right;\">\n",
       "      <th></th>\n",
       "      <th>month_year</th>\n",
       "      <th>root_category_name</th>\n",
       "      <th>sub_category_name_de</th>\n",
       "      <th>pageimpression_oop</th>\n",
       "      <th>LOCO_OOP</th>\n",
       "      <th>date</th>\n",
       "      <th>PI First Difference</th>\n",
       "      <th>Seasonal First Difference</th>\n",
       "      <th>Seasonal First Difference Difference</th>\n",
       "    </tr>\n",
       "  </thead>\n",
       "  <tbody>\n",
       "    <tr>\n",
       "      <th>55</th>\n",
       "      <td>2019-07</td>\n",
       "      <td>Haus &amp; Garten</td>\n",
       "      <td>Garten</td>\n",
       "      <td>4256061.0</td>\n",
       "      <td>1270976.0</td>\n",
       "      <td>2019-07-01</td>\n",
       "      <td>NaN</td>\n",
       "      <td>NaN</td>\n",
       "      <td>NaN</td>\n",
       "    </tr>\n",
       "    <tr>\n",
       "      <th>146</th>\n",
       "      <td>2019-08</td>\n",
       "      <td>Haus &amp; Garten</td>\n",
       "      <td>Garten</td>\n",
       "      <td>3278541.0</td>\n",
       "      <td>964047.0</td>\n",
       "      <td>2019-08-01</td>\n",
       "      <td>-977520.0</td>\n",
       "      <td>NaN</td>\n",
       "      <td>NaN</td>\n",
       "    </tr>\n",
       "    <tr>\n",
       "      <th>239</th>\n",
       "      <td>2019-09</td>\n",
       "      <td>Haus &amp; Garten</td>\n",
       "      <td>Garten</td>\n",
       "      <td>2457913.0</td>\n",
       "      <td>699785.0</td>\n",
       "      <td>2019-09-01</td>\n",
       "      <td>-820628.0</td>\n",
       "      <td>NaN</td>\n",
       "      <td>NaN</td>\n",
       "    </tr>\n",
       "    <tr>\n",
       "      <th>331</th>\n",
       "      <td>2019-10</td>\n",
       "      <td>Haus &amp; Garten</td>\n",
       "      <td>Garten</td>\n",
       "      <td>2137127.0</td>\n",
       "      <td>603896.0</td>\n",
       "      <td>2019-10-01</td>\n",
       "      <td>-320786.0</td>\n",
       "      <td>NaN</td>\n",
       "      <td>NaN</td>\n",
       "    </tr>\n",
       "    <tr>\n",
       "      <th>426</th>\n",
       "      <td>2019-11</td>\n",
       "      <td>Haus &amp; Garten</td>\n",
       "      <td>Garten</td>\n",
       "      <td>2105234.0</td>\n",
       "      <td>538696.0</td>\n",
       "      <td>2019-11-01</td>\n",
       "      <td>-31893.0</td>\n",
       "      <td>NaN</td>\n",
       "      <td>NaN</td>\n",
       "    </tr>\n",
       "    <tr>\n",
       "      <th>520</th>\n",
       "      <td>2019-12</td>\n",
       "      <td>Haus &amp; Garten</td>\n",
       "      <td>Garten</td>\n",
       "      <td>1712171.0</td>\n",
       "      <td>420692.0</td>\n",
       "      <td>2019-12-01</td>\n",
       "      <td>-393063.0</td>\n",
       "      <td>NaN</td>\n",
       "      <td>NaN</td>\n",
       "    </tr>\n",
       "    <tr>\n",
       "      <th>616</th>\n",
       "      <td>2020-01</td>\n",
       "      <td>Haus &amp; Garten</td>\n",
       "      <td>Garten</td>\n",
       "      <td>2046163.0</td>\n",
       "      <td>539126.0</td>\n",
       "      <td>2020-01-01</td>\n",
       "      <td>333992.0</td>\n",
       "      <td>NaN</td>\n",
       "      <td>NaN</td>\n",
       "    </tr>\n",
       "    <tr>\n",
       "      <th>714</th>\n",
       "      <td>2020-02</td>\n",
       "      <td>Haus &amp; Garten</td>\n",
       "      <td>Garten</td>\n",
       "      <td>2660371.0</td>\n",
       "      <td>715658.0</td>\n",
       "      <td>2020-02-01</td>\n",
       "      <td>614208.0</td>\n",
       "      <td>NaN</td>\n",
       "      <td>NaN</td>\n",
       "    </tr>\n",
       "    <tr>\n",
       "      <th>812</th>\n",
       "      <td>2020-03</td>\n",
       "      <td>Haus &amp; Garten</td>\n",
       "      <td>Garten</td>\n",
       "      <td>6160898.0</td>\n",
       "      <td>1703236.0</td>\n",
       "      <td>2020-03-01</td>\n",
       "      <td>3500527.0</td>\n",
       "      <td>NaN</td>\n",
       "      <td>NaN</td>\n",
       "    </tr>\n",
       "    <tr>\n",
       "      <th>908</th>\n",
       "      <td>2020-04</td>\n",
       "      <td>Haus &amp; Garten</td>\n",
       "      <td>Garten</td>\n",
       "      <td>15860204.0</td>\n",
       "      <td>4055637.0</td>\n",
       "      <td>2020-04-01</td>\n",
       "      <td>9699306.0</td>\n",
       "      <td>NaN</td>\n",
       "      <td>NaN</td>\n",
       "    </tr>\n",
       "    <tr>\n",
       "      <th>1008</th>\n",
       "      <td>2020-05</td>\n",
       "      <td>Haus &amp; Garten</td>\n",
       "      <td>Garten</td>\n",
       "      <td>13579616.0</td>\n",
       "      <td>3443409.0</td>\n",
       "      <td>2020-05-01</td>\n",
       "      <td>-2280588.0</td>\n",
       "      <td>NaN</td>\n",
       "      <td>NaN</td>\n",
       "    </tr>\n",
       "    <tr>\n",
       "      <th>1107</th>\n",
       "      <td>2020-06</td>\n",
       "      <td>Haus &amp; Garten</td>\n",
       "      <td>Garten</td>\n",
       "      <td>10197406.0</td>\n",
       "      <td>2795767.0</td>\n",
       "      <td>2020-06-01</td>\n",
       "      <td>-3382210.0</td>\n",
       "      <td>NaN</td>\n",
       "      <td>NaN</td>\n",
       "    </tr>\n",
       "    <tr>\n",
       "      <th>1204</th>\n",
       "      <td>2020-07</td>\n",
       "      <td>Haus &amp; Garten</td>\n",
       "      <td>Garten</td>\n",
       "      <td>7743884.0</td>\n",
       "      <td>1879300.0</td>\n",
       "      <td>2020-07-01</td>\n",
       "      <td>-2453522.0</td>\n",
       "      <td>3487823.0</td>\n",
       "      <td>NaN</td>\n",
       "    </tr>\n",
       "    <tr>\n",
       "      <th>1300</th>\n",
       "      <td>2020-08</td>\n",
       "      <td>Haus &amp; Garten</td>\n",
       "      <td>Garten</td>\n",
       "      <td>7055242.0</td>\n",
       "      <td>1664081.0</td>\n",
       "      <td>2020-08-01</td>\n",
       "      <td>-688642.0</td>\n",
       "      <td>3776701.0</td>\n",
       "      <td>288878.0</td>\n",
       "    </tr>\n",
       "    <tr>\n",
       "      <th>1395</th>\n",
       "      <td>2020-09</td>\n",
       "      <td>Haus &amp; Garten</td>\n",
       "      <td>Garten</td>\n",
       "      <td>4199970.0</td>\n",
       "      <td>1014342.0</td>\n",
       "      <td>2020-09-01</td>\n",
       "      <td>-2855272.0</td>\n",
       "      <td>1742057.0</td>\n",
       "      <td>-2034644.0</td>\n",
       "    </tr>\n",
       "    <tr>\n",
       "      <th>1492</th>\n",
       "      <td>2020-10</td>\n",
       "      <td>Haus &amp; Garten</td>\n",
       "      <td>Garten</td>\n",
       "      <td>3881750.0</td>\n",
       "      <td>833220.0</td>\n",
       "      <td>2020-10-01</td>\n",
       "      <td>-318220.0</td>\n",
       "      <td>1744623.0</td>\n",
       "      <td>2566.0</td>\n",
       "    </tr>\n",
       "    <tr>\n",
       "      <th>1588</th>\n",
       "      <td>2020-11</td>\n",
       "      <td>Haus &amp; Garten</td>\n",
       "      <td>Garten</td>\n",
       "      <td>4556663.0</td>\n",
       "      <td>886699.0</td>\n",
       "      <td>2020-11-01</td>\n",
       "      <td>674913.0</td>\n",
       "      <td>2451429.0</td>\n",
       "      <td>706806.0</td>\n",
       "    </tr>\n",
       "    <tr>\n",
       "      <th>1685</th>\n",
       "      <td>2020-12</td>\n",
       "      <td>Haus &amp; Garten</td>\n",
       "      <td>Garten</td>\n",
       "      <td>3533866.0</td>\n",
       "      <td>679496.0</td>\n",
       "      <td>2020-12-01</td>\n",
       "      <td>-1022797.0</td>\n",
       "      <td>1821695.0</td>\n",
       "      <td>-629734.0</td>\n",
       "    </tr>\n",
       "    <tr>\n",
       "      <th>1783</th>\n",
       "      <td>2021-01</td>\n",
       "      <td>Haus &amp; Garten</td>\n",
       "      <td>Garten</td>\n",
       "      <td>4285670.0</td>\n",
       "      <td>823733.0</td>\n",
       "      <td>2021-01-01</td>\n",
       "      <td>751804.0</td>\n",
       "      <td>2239507.0</td>\n",
       "      <td>417812.0</td>\n",
       "    </tr>\n",
       "    <tr>\n",
       "      <th>1881</th>\n",
       "      <td>2021-02</td>\n",
       "      <td>Haus &amp; Garten</td>\n",
       "      <td>Garten</td>\n",
       "      <td>5684250.0</td>\n",
       "      <td>1198848.0</td>\n",
       "      <td>2021-02-01</td>\n",
       "      <td>1398580.0</td>\n",
       "      <td>3023879.0</td>\n",
       "      <td>784372.0</td>\n",
       "    </tr>\n",
       "  </tbody>\n",
       "</table>\n",
       "</div>"
      ],
      "text/plain": [
       "     month_year root_category_name sub_category_name_de  pageimpression_oop  \\\n",
       "55      2019-07      Haus & Garten               Garten           4256061.0   \n",
       "146     2019-08      Haus & Garten               Garten           3278541.0   \n",
       "239     2019-09      Haus & Garten               Garten           2457913.0   \n",
       "331     2019-10      Haus & Garten               Garten           2137127.0   \n",
       "426     2019-11      Haus & Garten               Garten           2105234.0   \n",
       "520     2019-12      Haus & Garten               Garten           1712171.0   \n",
       "616     2020-01      Haus & Garten               Garten           2046163.0   \n",
       "714     2020-02      Haus & Garten               Garten           2660371.0   \n",
       "812     2020-03      Haus & Garten               Garten           6160898.0   \n",
       "908     2020-04      Haus & Garten               Garten          15860204.0   \n",
       "1008    2020-05      Haus & Garten               Garten          13579616.0   \n",
       "1107    2020-06      Haus & Garten               Garten          10197406.0   \n",
       "1204    2020-07      Haus & Garten               Garten           7743884.0   \n",
       "1300    2020-08      Haus & Garten               Garten           7055242.0   \n",
       "1395    2020-09      Haus & Garten               Garten           4199970.0   \n",
       "1492    2020-10      Haus & Garten               Garten           3881750.0   \n",
       "1588    2020-11      Haus & Garten               Garten           4556663.0   \n",
       "1685    2020-12      Haus & Garten               Garten           3533866.0   \n",
       "1783    2021-01      Haus & Garten               Garten           4285670.0   \n",
       "1881    2021-02      Haus & Garten               Garten           5684250.0   \n",
       "\n",
       "       LOCO_OOP       date  PI First Difference  Seasonal First Difference  \\\n",
       "55    1270976.0 2019-07-01                  NaN                        NaN   \n",
       "146    964047.0 2019-08-01            -977520.0                        NaN   \n",
       "239    699785.0 2019-09-01            -820628.0                        NaN   \n",
       "331    603896.0 2019-10-01            -320786.0                        NaN   \n",
       "426    538696.0 2019-11-01             -31893.0                        NaN   \n",
       "520    420692.0 2019-12-01            -393063.0                        NaN   \n",
       "616    539126.0 2020-01-01             333992.0                        NaN   \n",
       "714    715658.0 2020-02-01             614208.0                        NaN   \n",
       "812   1703236.0 2020-03-01            3500527.0                        NaN   \n",
       "908   4055637.0 2020-04-01            9699306.0                        NaN   \n",
       "1008  3443409.0 2020-05-01           -2280588.0                        NaN   \n",
       "1107  2795767.0 2020-06-01           -3382210.0                        NaN   \n",
       "1204  1879300.0 2020-07-01           -2453522.0                  3487823.0   \n",
       "1300  1664081.0 2020-08-01            -688642.0                  3776701.0   \n",
       "1395  1014342.0 2020-09-01           -2855272.0                  1742057.0   \n",
       "1492   833220.0 2020-10-01            -318220.0                  1744623.0   \n",
       "1588   886699.0 2020-11-01             674913.0                  2451429.0   \n",
       "1685   679496.0 2020-12-01           -1022797.0                  1821695.0   \n",
       "1783   823733.0 2021-01-01             751804.0                  2239507.0   \n",
       "1881  1198848.0 2021-02-01            1398580.0                  3023879.0   \n",
       "\n",
       "      Seasonal First Difference Difference  \n",
       "55                                     NaN  \n",
       "146                                    NaN  \n",
       "239                                    NaN  \n",
       "331                                    NaN  \n",
       "426                                    NaN  \n",
       "520                                    NaN  \n",
       "616                                    NaN  \n",
       "714                                    NaN  \n",
       "812                                    NaN  \n",
       "908                                    NaN  \n",
       "1008                                   NaN  \n",
       "1107                                   NaN  \n",
       "1204                                   NaN  \n",
       "1300                              288878.0  \n",
       "1395                            -2034644.0  \n",
       "1492                                2566.0  \n",
       "1588                              706806.0  \n",
       "1685                             -629734.0  \n",
       "1783                              417812.0  \n",
       "1881                              784372.0  "
      ]
     },
     "execution_count": 134,
     "metadata": {},
     "output_type": "execute_result"
    }
   ],
   "source": [
    "subset['PI First Difference'] = subset['pageimpression_oop'] - subset['pageimpression_oop'].shift(1)\n",
    "subset['Seasonal First Difference']=subset['pageimpression_oop']-subset['pageimpression_oop'].shift(12)\n",
    "subset['Seasonal First Difference Difference'] = subset['Seasonal First Difference'] - subset['Seasonal First Difference'].shift(1)\n",
    "subset.head(20)"
   ]
  },
  {
   "cell_type": "code",
   "execution_count": 135,
   "metadata": {},
   "outputs": [
    {
     "name": "stdout",
     "output_type": "stream",
     "text": [
      "ADF Test Statistic : 0.6018670092994006\n",
      "p-value : 0.9876615574413838\n",
      "#Lags Used : 5\n",
      "Number of Observations : 8\n",
      "weak evidence against null hypothesis,indicating it is non-stationary \n"
     ]
    }
   ],
   "source": [
    "# Again testing if data is stationary\n",
    "adfuller_test(subset['Seasonal First Difference'].dropna())"
   ]
  },
  {
   "cell_type": "code",
   "execution_count": 136,
   "metadata": {
    "scrolled": true
   },
   "outputs": [
    {
     "data": {
      "text/plain": [
       "<AxesSubplot:xlabel='month_year'>"
      ]
     },
     "execution_count": 136,
     "metadata": {},
     "output_type": "execute_result"
    },
    {
     "data": {
      "image/png": "[encoded data removed]",
      "text/plain": [
       "<Figure size 1296x576 with 1 Axes>"
      ]
     },
     "metadata": {
      "needs_background": "light"
     },
     "output_type": "display_data"
    }
   ],
   "source": [
    "\n",
    "subset.plot( 'month_year' , 'Seasonal First Difference' )"
   ]
  },
  {
   "cell_type": "code",
   "execution_count": 17,
   "metadata": {},
   "outputs": [
    {
     "data": {
      "text/plain": [
       "<AxesSubplot:xlabel='date'>"
      ]
     },
     "execution_count": 17,
     "metadata": {},
     "output_type": "execute_result"
    },
    {
     "data": {
      "image/png": "[encoded data removed]",
      "text/plain": [
       "<Figure size 432x288 with 1 Axes>"
      ]
     },
     "metadata": {
      "needs_background": "light"
     },
     "output_type": "display_data"
    }
   ],
   "source": [
    "subset_1.plot()"
   ]
  },
  {
   "cell_type": "code",
   "execution_count": 146,
   "metadata": {},
   "outputs": [
    {
     "name": "stdout",
     "output_type": "stream",
     "text": [
      "Examples of parameter for SARIMA...\n",
      "SARIMAX: (0, 0, 1) x (0, 0, 1, 12)\n",
      "SARIMAX: (0, 0, 1) x (0, 1, 0, 12)\n",
      "SARIMAX: (0, 1, 0) x (0, 1, 1, 12)\n",
      "SARIMAX: (0, 1, 0) x (1, 0, 0, 12)\n"
     ]
    }
   ],
   "source": [
    "import warnings\n",
    "import itertools\n",
    "import numpy as np\n",
    "\n",
    "p = d = q = range(0, 2)\n",
    "pdq = list(itertools.product(p, d, q))\n",
    "seasonal_pdq = [(x[0], x[1], x[2], 12) for x in list(itertools.product(p, d, q))]\n",
    "print('Examples of parameter for SARIMA...')\n",
    "print('SARIMAX: {} x {}'.format(pdq[1], seasonal_pdq[1]))\n",
    "print('SARIMAX: {} x {}'.format(pdq[1], seasonal_pdq[2]))\n",
    "print('SARIMAX: {} x {}'.format(pdq[2], seasonal_pdq[3]))\n",
    "print('SARIMAX: {} x {}'.format(pdq[2], seasonal_pdq[4]))"
   ]
  },
  {
   "cell_type": "code",
   "execution_count": 147,
   "metadata": {
    "scrolled": true
   },
   "outputs": [
    {
     "name": "stdout",
     "output_type": "stream",
     "text": [
      "ARIMA(0, 0, 0)x(0, 0, 0, 12)12 - AIC:862.7541436761543\n",
      "ARIMA(0, 0, 0)x(0, 0, 1, 12)12 - AIC:428.0582298599601\n",
      "ARIMA(0, 0, 0)x(0, 1, 0, 12)12 - AIC:430.59923999664693\n",
      "ARIMA(0, 0, 0)x(0, 1, 1, 12)12 - AIC:35.661897038338594\n",
      "ARIMA(0, 0, 0)x(1, 0, 0, 12)12 - AIC:461.41359571839126\n",
      "ARIMA(0, 0, 0)x(1, 0, 1, 12)12 - AIC:429.87902202401375\n",
      "ARIMA(0, 0, 0)x(1, 1, 0, 12)12 - AIC:68.95595930507098\n",
      "ARIMA(0, 0, 0)x(1, 1, 1, 12)12 - AIC:37.66189691303181\n",
      "ARIMA(0, 0, 1)x(0, 0, 0, 12)12 - AIC:812.6942317435103\n",
      "ARIMA(0, 0, 1)x(0, 0, 1, 12)12 - AIC:406.1463173810883\n",
      "ARIMA(0, 0, 1)x(0, 1, 0, 12)12 - AIC:393.7584939298687\n",
      "ARIMA(0, 0, 1)x(0, 1, 1, 12)12 - AIC:6.0\n",
      "ARIMA(0, 0, 1)x(1, 0, 0, 12)12 - AIC:473.43000660415214\n",
      "ARIMA(0, 0, 1)x(1, 0, 1, 12)12 - AIC:408.019933368902\n",
      "ARIMA(0, 0, 1)x(1, 1, 0, 12)12 - AIC:69.1588802597362\n",
      "ARIMA(0, 0, 1)x(1, 1, 1, 12)12 - AIC:8.0\n",
      "ARIMA(0, 1, 0)x(0, 0, 0, 12)12 - AIC:785.4568514334846\n",
      "ARIMA(0, 1, 0)x(0, 0, 1, 12)12 - AIC:390.49593447162584\n",
      "ARIMA(0, 1, 0)x(0, 1, 0, 12)12 - AIC:399.16018410130033\n",
      "ARIMA(0, 1, 0)x(0, 1, 1, 12)12 - AIC:4.0\n",
      "ARIMA(0, 1, 0)x(1, 0, 0, 12)12 - AIC:420.2679657958657\n",
      "ARIMA(0, 1, 0)x(1, 0, 1, 12)12 - AIC:392.2999507650067\n",
      "ARIMA(0, 1, 0)x(1, 1, 0, 12)12 - AIC:35.55247950691776\n",
      "ARIMA(0, 1, 0)x(1, 1, 1, 12)12 - AIC:6.0\n",
      "ARIMA(0, 1, 1)x(0, 0, 0, 12)12 - AIC:751.7625922994948\n",
      "ARIMA(0, 1, 1)x(0, 0, 1, 12)12 - AIC:358.5756425662057\n",
      "ARIMA(0, 1, 1)x(0, 1, 0, 12)12 - AIC:363.7693394468664\n",
      "ARIMA(0, 1, 1)x(0, 1, 1, 12)12 - AIC:6.0\n",
      "ARIMA(0, 1, 1)x(1, 0, 0, 12)12 - AIC:423.07237142450515\n",
      "ARIMA(0, 1, 1)x(1, 0, 1, 12)12 - AIC:360.5479162789425\n",
      "ARIMA(0, 1, 1)x(1, 1, 0, 12)12 - AIC:37.88528866288642\n",
      "ARIMA(0, 1, 1)x(1, 1, 1, 12)12 - AIC:8.0\n",
      "ARIMA(1, 0, 0)x(0, 0, 0, 12)12 - AIC:817.9227539554889\n",
      "ARIMA(1, 0, 0)x(0, 0, 1, 12)12 - AIC:422.9923840596764\n",
      "ARIMA(1, 0, 0)x(0, 1, 0, 12)12 - AIC:425.9669883605209\n",
      "ARIMA(1, 0, 0)x(0, 1, 1, 12)12 - AIC:37.459007569087454\n",
      "ARIMA(1, 0, 0)x(1, 0, 0, 12)12 - AIC:422.9338302071865\n"
     ]
    },
    {
     "name": "stderr",
     "output_type": "stream",
     "text": [
      "/Users/aishwarya.kumar/opt/anaconda3/lib/python3.8/site-packages/statsmodels/base/model.py:566: ConvergenceWarning: Maximum Likelihood optimization failed to converge. Check mle_retvals\n",
      "  warnings.warn(\"Maximum Likelihood optimization failed to \"\n"
     ]
    },
    {
     "name": "stdout",
     "output_type": "stream",
     "text": [
      "ARIMA(1, 0, 0)x(1, 0, 1, 12)12 - AIC:424.9011021087075\n",
      "ARIMA(1, 0, 0)x(1, 1, 0, 12)12 - AIC:37.45899910965522\n",
      "ARIMA(1, 0, 0)x(1, 1, 1, 12)12 - AIC:39.45900150834315\n",
      "ARIMA(1, 0, 1)x(0, 0, 0, 12)12 - AIC:783.5204141278007\n",
      "ARIMA(1, 0, 1)x(0, 0, 1, 12)12 - AIC:391.8341349898423\n",
      "ARIMA(1, 0, 1)x(0, 1, 0, 12)12 - AIC:395.5745074692248\n",
      "ARIMA(1, 0, 1)x(0, 1, 1, 12)12 - AIC:8.0\n",
      "ARIMA(1, 0, 1)x(1, 0, 0, 12)12 - AIC:423.734060115364\n",
      "ARIMA(1, 0, 1)x(1, 0, 1, 12)12 - AIC:393.333647559387\n",
      "ARIMA(1, 0, 1)x(1, 1, 0, 12)12 - AIC:39.58303502994859\n",
      "ARIMA(1, 0, 1)x(1, 1, 1, 12)12 - AIC:10.0\n",
      "ARIMA(1, 1, 0)x(0, 0, 0, 12)12 - AIC:783.763049632714\n",
      "ARIMA(1, 1, 0)x(0, 0, 1, 12)12 - AIC:389.323435959872\n",
      "ARIMA(1, 1, 0)x(0, 1, 0, 12)12 - AIC:396.3864266951474\n",
      "ARIMA(1, 1, 0)x(0, 1, 1, 12)12 - AIC:6.0\n",
      "ARIMA(1, 1, 0)x(1, 0, 0, 12)12 - AIC:389.3057770484365\n",
      "ARIMA(1, 1, 0)x(1, 0, 1, 12)12 - AIC:391.304779002627\n",
      "ARIMA(1, 1, 0)x(1, 1, 0, 12)12 - AIC:6.0\n",
      "ARIMA(1, 1, 0)x(1, 1, 1, 12)12 - AIC:8.0\n",
      "ARIMA(1, 1, 1)x(0, 0, 0, 12)12 - AIC:753.6772522060621\n",
      "ARIMA(1, 1, 1)x(0, 0, 1, 12)12 - AIC:359.7339895291172\n",
      "ARIMA(1, 1, 1)x(0, 1, 0, 12)12 - AIC:365.513349118173\n",
      "ARIMA(1, 1, 1)x(0, 1, 1, 12)12 - AIC:8.0\n",
      "ARIMA(1, 1, 1)x(1, 0, 0, 12)12 - AIC:392.07644105152156\n",
      "ARIMA(1, 1, 1)x(1, 0, 1, 12)12 - AIC:361.72629878960925\n",
      "ARIMA(1, 1, 1)x(1, 1, 0, 12)12 - AIC:8.0\n",
      "ARIMA(1, 1, 1)x(1, 1, 1, 12)12 - AIC:10.0\n"
     ]
    }
   ],
   "source": [
    "for param in pdq:\n",
    "    for param_seasonal in seasonal_pdq:\n",
    "        try:\n",
    "            mod = sm.tsa.statespace.SARIMAX(subset_1,order=param,seasonal_order=param_seasonal,enforce_stationarity=False,enforce_invertibility=False)\n",
    "            results = mod.fit()\n",
    "            print('ARIMA{}x{}12 - AIC:{}'.format(param,param_seasonal,results.aic))\n",
    "        except: \n",
    "            continue"
   ]
  },
  {
   "cell_type": "code",
   "execution_count": 186,
   "metadata": {},
   "outputs": [
    {
     "name": "stdout",
     "output_type": "stream",
     "text": [
      "==============================================================================\n",
      "                 coef    std err          z      P>|z|      [0.025      0.975]\n",
      "------------------------------------------------------------------------------\n",
      "ar.L1          1.0267      0.437      2.347      0.019       0.169       1.884\n",
      "ar.L2         -0.4099      1.296     -0.316      0.752      -2.950       2.130\n",
      "ar.L3         -0.1992      0.987     -0.202      0.840      -2.133       1.735\n",
      "ma.L1         -1.0406      0.080    -13.032      0.000      -1.197      -0.884\n",
      "sigma2      8.023e+12   2.59e-13    3.1e+25      0.000    8.02e+12    8.02e+12\n",
      "==============================================================================\n"
     ]
    }
   ],
   "source": [
    "import statsmodels.api as sm\n",
    "\n",
    "mod = sm.tsa.statespace.SARIMAX(subset_1,\n",
    "                                order=(3,1,1),\n",
    "                                seasonal_order=(0, 0, 0, 12),\n",
    "                                enforce_stationarity=False,\n",
    "                                enforce_invertibility=False)\n",
    "results = mod.fit()\n",
    "print(results.summary().tables[1])"
   ]
  },
  {
   "cell_type": "code",
   "execution_count": null,
   "metadata": {},
   "outputs": [],
   "source": []
  },
  {
   "cell_type": "code",
   "execution_count": 187,
   "metadata": {},
   "outputs": [
    {
     "data": {
      "image/png": "[encoded data removed]",
      "text/plain": [
       "<Figure size 1440x504 with 1 Axes>"
      ]
     },
     "metadata": {
      "needs_background": "light"
     },
     "output_type": "display_data"
    },
    {
     "data": {
      "text/plain": [
       "2019-11    4.192798e+06\n",
       "2019-12    4.539794e+06\n",
       "2020-01    4.328101e+06\n",
       "2020-02    4.931183e+06\n",
       "2020-03    5.595439e+06\n",
       "2020-04    8.848120e+06\n",
       "2020-05    1.696419e+07\n",
       "2020-06    1.008771e+07\n",
       "2020-07    5.613876e+06\n",
       "2020-08    4.848794e+06\n",
       "2020-09    5.731328e+06\n",
       "2020-10    3.632989e+06\n",
       "2020-11    4.603600e+06\n",
       "2020-12    5.997498e+06\n",
       "2021-01    4.834271e+06\n",
       "2021-02    5.913222e+06\n",
       "2021-03    7.253975e+06\n",
       "2021-04    9.489419e+06\n",
       "2021-05    1.012724e+07\n",
       "2021-06    8.996135e+06\n",
       "2021-07    7.674831e+06\n",
       "2021-08    4.326192e+06\n",
       "2021-09   -1.982929e+05\n",
       "2021-10    1.930442e+06\n",
       "2021-11    5.747450e+06\n",
       "2021-12    8.998813e+06\n",
       "2022-01    1.034850e+07\n",
       "2022-02    9.641398e+06\n",
       "2022-03    7.714705e+06\n",
       "2022-04    5.757631e+06\n",
       "2022-05    4.678856e+06\n",
       "2022-06    4.757153e+06\n",
       "Freq: M, Name: predicted_mean, dtype: float64"
      ]
     },
     "execution_count": 187,
     "metadata": {},
     "output_type": "execute_result"
    }
   ],
   "source": [
    "pred = results.get_prediction(start=pd.to_datetime('2019-11-01'), end=pd.to_datetime('2022-06-01'),dynamic=False)\n",
    "pred_ci = pred.conf_int()\n",
    "ax = subset_1.plot(label='observed')\n",
    "pred.predicted_mean.plot(ax=ax, label='One-step ahead Forecast', alpha=.7, figsize=(20,7))\n",
    "ax.fill_between(pred_ci.index,\n",
    "                pred_ci.iloc[:, 0],\n",
    "                pred_ci.iloc[:, 1], color='k', alpha=.2)\n",
    "ax.set_xlabel('Date')\n",
    "ax.set_ylabel('Demand')\n",
    "pyplot.legend()\n",
    "pyplot.show()\n",
    "pred.predicted_mean"
   ]
  },
  {
   "cell_type": "code",
   "execution_count": null,
   "metadata": {},
   "outputs": [],
   "source": []
  },
  {
   "cell_type": "code",
   "execution_count": null,
   "metadata": {},
   "outputs": [],
   "source": []
  },
  {
   "cell_type": "code",
   "execution_count": null,
   "metadata": {},
   "outputs": [],
   "source": []
  }
 ],
 "metadata": {
  "kernelspec": {
   "display_name": "Python 3",
   "language": "python",
   "name": "python3"
  },
  "language_info": {
   "codemirror_mode": {
    "name": "ipython",
    "version": 3
   },
   "file_extension": ".py",
   "mimetype": "text/x-python",
   "name": "python",
   "nbconvert_exporter": "python",
   "pygments_lexer": "ipython3",
   "version": "3.8.5"
  }
 },
 "nbformat": 4,
 "nbformat_minor": 4
}
