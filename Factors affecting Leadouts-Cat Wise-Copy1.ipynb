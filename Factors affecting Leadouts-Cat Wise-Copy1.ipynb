{
 "cells": [
  {
   "cell_type": "markdown",
   "metadata": {},
   "source": [
    "# querying the data lake in a jupyter notebook"
   ]
  },
  {
   "cell_type": "markdown",
   "metadata": {},
   "source": [
    "## prerequisites"
   ]
  },
  {
   "cell_type": "markdown",
   "metadata": {},
   "source": [
    "make sure you have `pip install presto-python-client` and `pandas` and `matplotlib` installed.\n",
    "you may do that via `pip install <name from above>`"
   ]
  },
  {
   "cell_type": "code",
   "execution_count": 1,
   "metadata": {
    "slideshow": {
     "slide_type": "slide"
    }
   },
   "outputs": [],
   "source": [
    "import prestodb"
   ]
  },
  {
   "cell_type": "code",
   "execution_count": 2,
   "metadata": {
    "slideshow": {
     "slide_type": "slide"
    }
   },
   "outputs": [],
   "source": [
    "conn = prestodb.dbapi.connect(\n",
    "    host='presto.apps.eu.idealo.com',\n",
    "    port=80, user='false',\n",
    "    catalog='hive',\n",
    "    schema='default')"
   ]
  },
  {
   "cell_type": "markdown",
   "metadata": {},
   "source": [
    "## creating a cursor object instance"
   ]
  },
  {
   "cell_type": "code",
   "execution_count": 3,
   "metadata": {},
   "outputs": [
    {
     "data": {
      "text/plain": [
       "['arraysize',\n",
       " 'cancel',\n",
       " 'close',\n",
       " 'connection',\n",
       " 'description',\n",
       " 'execute',\n",
       " 'executemany',\n",
       " 'fetchall',\n",
       " 'fetchmany',\n",
       " 'fetchone',\n",
       " 'genall',\n",
       " 'rowcount',\n",
       " 'setinputsizes',\n",
       " 'setoutputsize',\n",
       " 'stats']"
      ]
     },
     "execution_count": 3,
     "metadata": {},
     "output_type": "execute_result"
    }
   ],
   "source": [
    "# create the cursor\n",
    "cur = conn.cursor()\n",
    "# cursor objects functions and attributes\n",
    "[thing for thing in dir(cur) if '_' not in thing]"
   ]
  },
  {
   "cell_type": "markdown",
   "metadata": {},
   "source": [
    "## exploring the schemas and tables"
   ]
  },
  {
   "cell_type": "code",
   "execution_count": 4,
   "metadata": {},
   "outputs": [
    {
     "data": {
      "text/plain": [
       "[['agg_cookie_email_mapping'],\n",
       " ['agg_cookie_email_mapping_daily'],\n",
       " ['compare_isg'],\n",
       " ['fact_all_earnings'],\n",
       " ['fact_cpc_earnings'],\n",
       " ['fact_cpo_earnings'],\n",
       " ['fact_dk_earnings'],\n",
       " ['fact_leadins'],\n",
       " ['fact_leadouts'],\n",
       " ['isg'],\n",
       " ['main_sessions'],\n",
       " ['main_traces'],\n",
       " ['sso_registration'],\n",
       " ['sso_verification'],\n",
       " ['traces']]"
      ]
     },
     "execution_count": 4,
     "metadata": {},
     "output_type": "execute_result"
    }
   ],
   "source": [
    "#schema either in double quotes or without quotes!\n",
    "cur.execute('''\n",
    "SHOW TABLES from \"dl_dwh_prod\"\n",
    "''')\n",
    "records = cur.fetchall()\n",
    "list(records)"
   ]
  },
  {
   "cell_type": "markdown",
   "metadata": {},
   "source": [
    "## creating a cursor and querying"
   ]
  },
  {
   "cell_type": "markdown",
   "metadata": {},
   "source": [
    "query can be highlighted in markdown code blocks (between triple backtics \\`\\`\\`) for better readability\n",
    "```sql\n",
    "SELECT * \n",
    "FROM \"dl_dwh_prod\".\"so_facts\"\n",
    "WHERE random(1000) = 1\n",
    "limit 1000\n",
    "```"
   ]
  },
  {
   "cell_type": "markdown",
   "metadata": {},
   "source": [
    "## storing the results in a dataframe"
   ]
  },
  {
   "cell_type": "code",
   "execution_count": 1,
   "metadata": {},
   "outputs": [],
   "source": [
    "import pandas as pd"
   ]
  },
  {
   "cell_type": "code",
   "execution_count": 2,
   "metadata": {},
   "outputs": [],
   "source": [
    "df=pd.read_csv(\"./Elektroartikel_sub_category.csv\")"
   ]
  },
  {
   "cell_type": "code",
   "execution_count": 3,
   "metadata": {},
   "outputs": [
    {
     "data": {
      "text/plain": [
       "(43782379, 7)"
      ]
     },
     "execution_count": 3,
     "metadata": {},
     "output_type": "execute_result"
    }
   ],
   "source": [
    "df.shape"
   ]
  },
  {
   "cell_type": "code",
   "execution_count": 4,
   "metadata": {},
   "outputs": [
    {
     "data": {
      "text/html": [
       "<div>\n",
       "<style scoped>\n",
       "    .dataframe tbody tr th:only-of-type {\n",
       "        vertical-align: middle;\n",
       "    }\n",
       "\n",
       "    .dataframe tbody tr th {\n",
       "        vertical-align: top;\n",
       "    }\n",
       "\n",
       "    .dataframe thead th {\n",
       "        text-align: right;\n",
       "    }\n",
       "</style>\n",
       "<table border=\"1\" class=\"dataframe\">\n",
       "  <thead>\n",
       "    <tr style=\"text-align: right;\">\n",
       "      <th></th>\n",
       "      <th>year_month</th>\n",
       "      <th>hour</th>\n",
       "      <th>leadout_price</th>\n",
       "      <th>leadout_click_position</th>\n",
       "      <th>sub_category_name</th>\n",
       "      <th>device_type</th>\n",
       "      <th>leadout_count</th>\n",
       "    </tr>\n",
       "  </thead>\n",
       "  <tbody>\n",
       "    <tr>\n",
       "      <th>0</th>\n",
       "      <td>1</td>\n",
       "      <td>0</td>\n",
       "      <td>720.26</td>\n",
       "      <td>9.0</td>\n",
       "      <td>Telekommunikation</td>\n",
       "      <td>Desktop</td>\n",
       "      <td>1</td>\n",
       "    </tr>\n",
       "    <tr>\n",
       "      <th>1</th>\n",
       "      <td>1</td>\n",
       "      <td>20</td>\n",
       "      <td>195.32</td>\n",
       "      <td>6.0</td>\n",
       "      <td>Computer</td>\n",
       "      <td>Desktop</td>\n",
       "      <td>1</td>\n",
       "    </tr>\n",
       "    <tr>\n",
       "      <th>2</th>\n",
       "      <td>7</td>\n",
       "      <td>4</td>\n",
       "      <td>1746.15</td>\n",
       "      <td>3.0</td>\n",
       "      <td>Haushaltselektronik</td>\n",
       "      <td>Unknown</td>\n",
       "      <td>1</td>\n",
       "    </tr>\n",
       "    <tr>\n",
       "      <th>3</th>\n",
       "      <td>2</td>\n",
       "      <td>8</td>\n",
       "      <td>1199.00</td>\n",
       "      <td>3.0</td>\n",
       "      <td>Computer</td>\n",
       "      <td>Phone</td>\n",
       "      <td>4</td>\n",
       "    </tr>\n",
       "    <tr>\n",
       "      <th>4</th>\n",
       "      <td>6</td>\n",
       "      <td>20</td>\n",
       "      <td>39.99</td>\n",
       "      <td>7.0</td>\n",
       "      <td>Telekommunikation</td>\n",
       "      <td>Phone</td>\n",
       "      <td>1</td>\n",
       "    </tr>\n",
       "  </tbody>\n",
       "</table>\n",
       "</div>"
      ],
      "text/plain": [
       "   year_month  hour  leadout_price  leadout_click_position  \\\n",
       "0           1     0         720.26                     9.0   \n",
       "1           1    20         195.32                     6.0   \n",
       "2           7     4        1746.15                     3.0   \n",
       "3           2     8        1199.00                     3.0   \n",
       "4           6    20          39.99                     7.0   \n",
       "\n",
       "     sub_category_name device_type  leadout_count  \n",
       "0    Telekommunikation     Desktop              1  \n",
       "1             Computer     Desktop              1  \n",
       "2  Haushaltselektronik     Unknown              1  \n",
       "3             Computer       Phone              4  \n",
       "4    Telekommunikation       Phone              1  "
      ]
     },
     "execution_count": 4,
     "metadata": {},
     "output_type": "execute_result"
    }
   ],
   "source": [
    "df.head(5)"
   ]
  },
  {
   "cell_type": "code",
   "execution_count": 5,
   "metadata": {
    "scrolled": true
   },
   "outputs": [
    {
     "name": "stderr",
     "output_type": "stream",
     "text": [
      "<ipython-input-5-b299a43ef141>:1: FutureWarning: Indexing with multiple keys (implicitly converted to a tuple of keys) will be deprecated, use a list instead.\n",
      "  a=df.groupby('sub_category_name')['leadout_count','leadout_click_position'].mean()\n"
     ]
    }
   ],
   "source": [
    "\n",
    "a=df.groupby('sub_category_name')['leadout_count','leadout_click_position'].mean()"
   ]
  },
  {
   "cell_type": "code",
   "execution_count": 6,
   "metadata": {},
   "outputs": [
    {
     "data": {
      "text/html": [
       "<div>\n",
       "<style scoped>\n",
       "    .dataframe tbody tr th:only-of-type {\n",
       "        vertical-align: middle;\n",
       "    }\n",
       "\n",
       "    .dataframe tbody tr th {\n",
       "        vertical-align: top;\n",
       "    }\n",
       "\n",
       "    .dataframe thead th {\n",
       "        text-align: right;\n",
       "    }\n",
       "</style>\n",
       "<table border=\"1\" class=\"dataframe\">\n",
       "  <thead>\n",
       "    <tr style=\"text-align: right;\">\n",
       "      <th></th>\n",
       "      <th>avg_leadout_count</th>\n",
       "      <th>avg_position</th>\n",
       "      <th>sub_category_name</th>\n",
       "    </tr>\n",
       "    <tr>\n",
       "      <th>sub_category_name</th>\n",
       "      <th></th>\n",
       "      <th></th>\n",
       "      <th></th>\n",
       "    </tr>\n",
       "  </thead>\n",
       "  <tbody>\n",
       "    <tr>\n",
       "      <th>Bartschneider &amp; Haarschneider</th>\n",
       "      <td>1.133151</td>\n",
       "      <td>3.267179</td>\n",
       "      <td>Bartschneider &amp; Haarschneider</td>\n",
       "    </tr>\n",
       "    <tr>\n",
       "      <th>Computer</th>\n",
       "      <td>1.458416</td>\n",
       "      <td>4.202858</td>\n",
       "      <td>Computer</td>\n",
       "    </tr>\n",
       "    <tr>\n",
       "      <th>Drucker &amp; Scanner</th>\n",
       "      <td>1.137135</td>\n",
       "      <td>4.313228</td>\n",
       "      <td>Drucker &amp; Scanner</td>\n",
       "    </tr>\n",
       "    <tr>\n",
       "      <th>Elektrische Zahnbürste</th>\n",
       "      <td>1.095069</td>\n",
       "      <td>3.168103</td>\n",
       "      <td>Elektrische Zahnbürste</td>\n",
       "    </tr>\n",
       "    <tr>\n",
       "      <th>Fotografie</th>\n",
       "      <td>1.229208</td>\n",
       "      <td>4.192216</td>\n",
       "      <td>Fotografie</td>\n",
       "    </tr>\n",
       "    <tr>\n",
       "      <th>Gaming- &amp; Elektrospielzeug</th>\n",
       "      <td>1.126738</td>\n",
       "      <td>4.375217</td>\n",
       "      <td>Gaming- &amp; Elektrospielzeug</td>\n",
       "    </tr>\n",
       "    <tr>\n",
       "      <th>Haushaltselektronik</th>\n",
       "      <td>1.532999</td>\n",
       "      <td>3.949052</td>\n",
       "      <td>Haushaltselektronik</td>\n",
       "    </tr>\n",
       "    <tr>\n",
       "      <th>HiFi &amp; Audio</th>\n",
       "      <td>1.484361</td>\n",
       "      <td>3.907287</td>\n",
       "      <td>HiFi &amp; Audio</td>\n",
       "    </tr>\n",
       "    <tr>\n",
       "      <th>Medien</th>\n",
       "      <td>1.400917</td>\n",
       "      <td>2.685315</td>\n",
       "      <td>Medien</td>\n",
       "    </tr>\n",
       "    <tr>\n",
       "      <th>TV &amp; Sat</th>\n",
       "      <td>1.355600</td>\n",
       "      <td>3.940710</td>\n",
       "      <td>TV &amp; Sat</td>\n",
       "    </tr>\n",
       "    <tr>\n",
       "      <th>Telekommunikation</th>\n",
       "      <td>1.431033</td>\n",
       "      <td>4.385766</td>\n",
       "      <td>Telekommunikation</td>\n",
       "    </tr>\n",
       "  </tbody>\n",
       "</table>\n",
       "</div>"
      ],
      "text/plain": [
       "                               avg_leadout_count  avg_position  \\\n",
       "sub_category_name                                                \n",
       "Bartschneider & Haarschneider           1.133151      3.267179   \n",
       "Computer                                1.458416      4.202858   \n",
       "Drucker & Scanner                       1.137135      4.313228   \n",
       "Elektrische Zahnbürste                  1.095069      3.168103   \n",
       "Fotografie                              1.229208      4.192216   \n",
       "Gaming- & Elektrospielzeug              1.126738      4.375217   \n",
       "Haushaltselektronik                     1.532999      3.949052   \n",
       "HiFi & Audio                            1.484361      3.907287   \n",
       "Medien                                  1.400917      2.685315   \n",
       "TV & Sat                                1.355600      3.940710   \n",
       "Telekommunikation                       1.431033      4.385766   \n",
       "\n",
       "                                           sub_category_name  \n",
       "sub_category_name                                             \n",
       "Bartschneider & Haarschneider  Bartschneider & Haarschneider  \n",
       "Computer                                            Computer  \n",
       "Drucker & Scanner                          Drucker & Scanner  \n",
       "Elektrische Zahnbürste                Elektrische Zahnbürste  \n",
       "Fotografie                                        Fotografie  \n",
       "Gaming- & Elektrospielzeug        Gaming- & Elektrospielzeug  \n",
       "Haushaltselektronik                      Haushaltselektronik  \n",
       "HiFi & Audio                                    HiFi & Audio  \n",
       "Medien                                                Medien  \n",
       "TV & Sat                                            TV & Sat  \n",
       "Telekommunikation                          Telekommunikation  "
      ]
     },
     "execution_count": 6,
     "metadata": {},
     "output_type": "execute_result"
    }
   ],
   "source": [
    "a['sub_category_name'] = a.index\n",
    "a.columns = ['avg_leadout_count', 'avg_position','sub_category_name']\n",
    "a"
   ]
  },
  {
   "cell_type": "code",
   "execution_count": 83,
   "metadata": {},
   "outputs": [
    {
     "data": {
      "text/plain": [
       "array([[<AxesSubplot:title={'center':'leadout_price'}>]], dtype=object)"
      ]
     },
     "execution_count": 83,
     "metadata": {},
     "output_type": "execute_result"
    },
    {
     "data": {
      "image/png": "[encoded data removed]",
      "text/plain": [
       "<Figure size 432x288 with 1 Axes>"
      ]
     },
     "metadata": {
      "needs_background": "light"
     },
     "output_type": "display_data"
    }
   ],
   "source": [
    "df.hist(column='leadout_price', range=[0,4000],bins=100)\n"
   ]
  },
  {
   "cell_type": "code",
   "execution_count": 85,
   "metadata": {
    "scrolled": true
   },
   "outputs": [
    {
     "data": {
      "text/plain": [
       "array([[<AxesSubplot:title={'center':'leadout_click_position'}>]],\n",
       "      dtype=object)"
      ]
     },
     "execution_count": 85,
     "metadata": {},
     "output_type": "execute_result"
    },
    {
     "data": {
      "image/png": "[encoded data removed]",
      "text/plain": [
       "<Figure size 432x288 with 1 Axes>"
      ]
     },
     "metadata": {
      "needs_background": "light"
     },
     "output_type": "display_data"
    }
   ],
   "source": [
    "df.hist(column='leadout_click_position', range=[0,30],bins=10)"
   ]
  },
  {
   "cell_type": "code",
   "execution_count": 116,
   "metadata": {},
   "outputs": [
    {
     "data": {
      "text/plain": [
       "array([[<AxesSubplot:title={'center':'final_pos'}>]], dtype=object)"
      ]
     },
     "execution_count": 116,
     "metadata": {},
     "output_type": "execute_result"
    },
    {
     "data": {
      "image/png": "[encoded data removed]",
      "text/plain": [
       "<Figure size 432x288 with 1 Axes>"
      ]
     },
     "metadata": {
      "needs_background": "light"
     },
     "output_type": "display_data"
    }
   ],
   "source": [
    "df.hist(column='final_pos', range=[0,30],bins=10)"
   ]
  },
  {
   "cell_type": "code",
   "execution_count": 87,
   "metadata": {},
   "outputs": [
    {
     "data": {
      "text/plain": [
       "array([[<AxesSubplot:title={'center':'hour'}>]], dtype=object)"
      ]
     },
     "execution_count": 87,
     "metadata": {},
     "output_type": "execute_result"
    },
    {
     "data": {
      "image/png": "[encoded data removed]",
      "text/plain": [
       "<Figure size 432x288 with 1 Axes>"
      ]
     },
     "metadata": {
      "needs_background": "light"
     },
     "output_type": "display_data"
    }
   ],
   "source": [
    "df.hist(column='hour', range=[0,24],bins=10)"
   ]
  },
  {
   "cell_type": "code",
   "execution_count": 91,
   "metadata": {},
   "outputs": [
    {
     "data": {
      "text/plain": [
       "array([[<AxesSubplot:title={'center':'year_month'}>]], dtype=object)"
      ]
     },
     "execution_count": 91,
     "metadata": {},
     "output_type": "execute_result"
    },
    {
     "data": {
      "image/png": "[encoded data removed]",
      "text/plain": [
       "<Figure size 432x288 with 1 Axes>"
      ]
     },
     "metadata": {
      "needs_background": "light"
     },
     "output_type": "display_data"
    }
   ],
   "source": [
    "df.hist(column='year_month', range=[0,12],bins=10)"
   ]
  },
  {
   "cell_type": "code",
   "execution_count": 7,
   "metadata": {},
   "outputs": [
    {
     "data": {
      "text/html": [
       "<div>\n",
       "<style scoped>\n",
       "    .dataframe tbody tr th:only-of-type {\n",
       "        vertical-align: middle;\n",
       "    }\n",
       "\n",
       "    .dataframe tbody tr th {\n",
       "        vertical-align: top;\n",
       "    }\n",
       "\n",
       "    .dataframe thead th {\n",
       "        text-align: right;\n",
       "    }\n",
       "</style>\n",
       "<table border=\"1\" class=\"dataframe\">\n",
       "  <thead>\n",
       "    <tr style=\"text-align: right;\">\n",
       "      <th></th>\n",
       "      <th>year_month</th>\n",
       "      <th>hour</th>\n",
       "      <th>leadout_price</th>\n",
       "      <th>leadout_click_position</th>\n",
       "      <th>sub_category_name</th>\n",
       "      <th>leadout_count</th>\n",
       "    </tr>\n",
       "    <tr>\n",
       "      <th>device_type</th>\n",
       "      <th></th>\n",
       "      <th></th>\n",
       "      <th></th>\n",
       "      <th></th>\n",
       "      <th></th>\n",
       "      <th></th>\n",
       "    </tr>\n",
       "  </thead>\n",
       "  <tbody>\n",
       "    <tr>\n",
       "      <th>Anonymized</th>\n",
       "      <td>59520</td>\n",
       "      <td>59520</td>\n",
       "      <td>59520</td>\n",
       "      <td>59432</td>\n",
       "      <td>59520</td>\n",
       "      <td>59520</td>\n",
       "    </tr>\n",
       "    <tr>\n",
       "      <th>Desktop</th>\n",
       "      <td>25871323</td>\n",
       "      <td>25871323</td>\n",
       "      <td>25871323</td>\n",
       "      <td>25821376</td>\n",
       "      <td>25871323</td>\n",
       "      <td>25871323</td>\n",
       "    </tr>\n",
       "    <tr>\n",
       "      <th>Game Console</th>\n",
       "      <td>3805</td>\n",
       "      <td>3805</td>\n",
       "      <td>3805</td>\n",
       "      <td>3803</td>\n",
       "      <td>3805</td>\n",
       "      <td>3805</td>\n",
       "    </tr>\n",
       "    <tr>\n",
       "      <th>Hacker</th>\n",
       "      <td>442</td>\n",
       "      <td>442</td>\n",
       "      <td>442</td>\n",
       "      <td>428</td>\n",
       "      <td>442</td>\n",
       "      <td>442</td>\n",
       "    </tr>\n",
       "    <tr>\n",
       "      <th>Mobile</th>\n",
       "      <td>10876</td>\n",
       "      <td>10876</td>\n",
       "      <td>10876</td>\n",
       "      <td>10783</td>\n",
       "      <td>10876</td>\n",
       "      <td>10876</td>\n",
       "    </tr>\n",
       "    <tr>\n",
       "      <th>Phone</th>\n",
       "      <td>13973993</td>\n",
       "      <td>13973993</td>\n",
       "      <td>13973993</td>\n",
       "      <td>13933404</td>\n",
       "      <td>13973993</td>\n",
       "      <td>13973993</td>\n",
       "    </tr>\n",
       "    <tr>\n",
       "      <th>Robot</th>\n",
       "      <td>5105</td>\n",
       "      <td>5105</td>\n",
       "      <td>5105</td>\n",
       "      <td>4829</td>\n",
       "      <td>5105</td>\n",
       "      <td>5105</td>\n",
       "    </tr>\n",
       "    <tr>\n",
       "      <th>Robot Mobile</th>\n",
       "      <td>2918</td>\n",
       "      <td>2918</td>\n",
       "      <td>2918</td>\n",
       "      <td>2910</td>\n",
       "      <td>2918</td>\n",
       "      <td>2918</td>\n",
       "    </tr>\n",
       "    <tr>\n",
       "      <th>Set-top box</th>\n",
       "      <td>68</td>\n",
       "      <td>68</td>\n",
       "      <td>68</td>\n",
       "      <td>68</td>\n",
       "      <td>68</td>\n",
       "      <td>68</td>\n",
       "    </tr>\n",
       "    <tr>\n",
       "      <th>TV</th>\n",
       "      <td>9719</td>\n",
       "      <td>9719</td>\n",
       "      <td>9719</td>\n",
       "      <td>9686</td>\n",
       "      <td>9719</td>\n",
       "      <td>9719</td>\n",
       "    </tr>\n",
       "    <tr>\n",
       "      <th>Tablet</th>\n",
       "      <td>3576287</td>\n",
       "      <td>3576287</td>\n",
       "      <td>3576287</td>\n",
       "      <td>3558701</td>\n",
       "      <td>3576287</td>\n",
       "      <td>3576287</td>\n",
       "    </tr>\n",
       "    <tr>\n",
       "      <th>Unknown</th>\n",
       "      <td>268262</td>\n",
       "      <td>268262</td>\n",
       "      <td>268262</td>\n",
       "      <td>267875</td>\n",
       "      <td>268262</td>\n",
       "      <td>268262</td>\n",
       "    </tr>\n",
       "    <tr>\n",
       "      <th>Virtual Reality</th>\n",
       "      <td>61</td>\n",
       "      <td>61</td>\n",
       "      <td>61</td>\n",
       "      <td>61</td>\n",
       "      <td>61</td>\n",
       "      <td>61</td>\n",
       "    </tr>\n",
       "  </tbody>\n",
       "</table>\n",
       "</div>"
      ],
      "text/plain": [
       "                 year_month      hour  leadout_price  leadout_click_position  \\\n",
       "device_type                                                                    \n",
       "Anonymized            59520     59520          59520                   59432   \n",
       "Desktop            25871323  25871323       25871323                25821376   \n",
       "Game Console           3805      3805           3805                    3803   \n",
       "Hacker                  442       442            442                     428   \n",
       "Mobile                10876     10876          10876                   10783   \n",
       "Phone              13973993  13973993       13973993                13933404   \n",
       "Robot                  5105      5105           5105                    4829   \n",
       "Robot Mobile           2918      2918           2918                    2910   \n",
       "Set-top box              68        68             68                      68   \n",
       "TV                     9719      9719           9719                    9686   \n",
       "Tablet              3576287   3576287        3576287                 3558701   \n",
       "Unknown              268262    268262         268262                  267875   \n",
       "Virtual Reality          61        61             61                      61   \n",
       "\n",
       "                 sub_category_name  leadout_count  \n",
       "device_type                                        \n",
       "Anonymized                   59520          59520  \n",
       "Desktop                   25871323       25871323  \n",
       "Game Console                  3805           3805  \n",
       "Hacker                         442            442  \n",
       "Mobile                       10876          10876  \n",
       "Phone                     13973993       13973993  \n",
       "Robot                         5105           5105  \n",
       "Robot Mobile                  2918           2918  \n",
       "Set-top box                     68             68  \n",
       "TV                            9719           9719  \n",
       "Tablet                     3576287        3576287  \n",
       "Unknown                     268262         268262  \n",
       "Virtual Reality                 61             61  "
      ]
     },
     "execution_count": 7,
     "metadata": {},
     "output_type": "execute_result"
    }
   ],
   "source": [
    "df.groupby(['device_type']).count()"
   ]
  },
  {
   "cell_type": "code",
   "execution_count": 114,
   "metadata": {},
   "outputs": [
    {
     "data": {
      "text/plain": [
       "year_month                     0\n",
       "hour                           0\n",
       "leadout_price                  0\n",
       "leadout_click_position    109023\n",
       "sub_category_name              0\n",
       "device_type                    0\n",
       "leadout_count                  0\n",
       "final_pos                      0\n",
       "avg_leadout_count              0\n",
       "avg_position                   0\n",
       "dtype: int64"
      ]
     },
     "execution_count": 114,
     "metadata": {},
     "output_type": "execute_result"
    }
   ],
   "source": [
    "df.isnull().sum(axis = 0)"
   ]
  },
  {
   "cell_type": "code",
   "execution_count": 8,
   "metadata": {},
   "outputs": [],
   "source": [
    "df = pd.merge(df, a[['avg_leadout_count','avg_position']], on='sub_category_name', how='inner')"
   ]
  },
  {
   "cell_type": "code",
   "execution_count": 9,
   "metadata": {},
   "outputs": [],
   "source": [
    "import numpy as np\n",
    "df['final_pos'] = np.NaN\n",
    "df['final_pos'] = df['leadout_click_position'].fillna(df['leadout_click_position']).fillna(df['avg_position'])\n"
   ]
  },
  {
   "cell_type": "code",
   "execution_count": 10,
   "metadata": {},
   "outputs": [],
   "source": [
    "df_1=df[(df['leadout_price']<=200) & (df['leadout_click_position']<6)]"
   ]
  },
  {
   "cell_type": "code",
   "execution_count": 16,
   "metadata": {
    "scrolled": true
   },
   "outputs": [
    {
     "data": {
      "text/plain": [
       "array([[<AxesSubplot:title={'center':'leadout_price'}>]], dtype=object)"
      ]
     },
     "execution_count": 16,
     "metadata": {},
     "output_type": "execute_result"
    },
    {
     "data": {
      "image/png": "[encoded data removed]",
      "text/plain": [
       "<Figure size 432x288 with 1 Axes>"
      ]
     },
     "metadata": {
      "needs_background": "light"
     },
     "output_type": "display_data"
    }
   ],
   "source": [
    "df_1.hist(column='leadout_price', range=[0,200],bins=30)"
   ]
  },
  {
   "cell_type": "code",
   "execution_count": 21,
   "metadata": {},
   "outputs": [
    {
     "data": {
      "text/html": [
       "<div>\n",
       "<style scoped>\n",
       "    .dataframe tbody tr th:only-of-type {\n",
       "        vertical-align: middle;\n",
       "    }\n",
       "\n",
       "    .dataframe tbody tr th {\n",
       "        vertical-align: top;\n",
       "    }\n",
       "\n",
       "    .dataframe thead th {\n",
       "        text-align: right;\n",
       "    }\n",
       "</style>\n",
       "<table border=\"1\" class=\"dataframe\">\n",
       "  <thead>\n",
       "    <tr style=\"text-align: right;\">\n",
       "      <th></th>\n",
       "      <th>year_month</th>\n",
       "      <th>hour</th>\n",
       "      <th>leadout_price</th>\n",
       "      <th>leadout_click_position</th>\n",
       "      <th>sub_category_name</th>\n",
       "      <th>device_type</th>\n",
       "      <th>leadout_count</th>\n",
       "      <th>avg_leadout_count</th>\n",
       "      <th>avg_position</th>\n",
       "      <th>final_pos</th>\n",
       "    </tr>\n",
       "  </thead>\n",
       "  <tbody>\n",
       "    <tr>\n",
       "      <th>2</th>\n",
       "      <td>12</td>\n",
       "      <td>16</td>\n",
       "      <td>199.00</td>\n",
       "      <td>4.0</td>\n",
       "      <td>Telekommunikation</td>\n",
       "      <td>Phone</td>\n",
       "      <td>13</td>\n",
       "      <td>1.431033</td>\n",
       "      <td>4.385766</td>\n",
       "      <td>4.0</td>\n",
       "    </tr>\n",
       "    <tr>\n",
       "      <th>6</th>\n",
       "      <td>9</td>\n",
       "      <td>7</td>\n",
       "      <td>108.97</td>\n",
       "      <td>1.0</td>\n",
       "      <td>Telekommunikation</td>\n",
       "      <td>Desktop</td>\n",
       "      <td>1</td>\n",
       "      <td>1.431033</td>\n",
       "      <td>4.385766</td>\n",
       "      <td>1.0</td>\n",
       "    </tr>\n",
       "  </tbody>\n",
       "</table>\n",
       "</div>"
      ],
      "text/plain": [
       "   year_month  hour  leadout_price  leadout_click_position  sub_category_name  \\\n",
       "2          12    16         199.00                     4.0  Telekommunikation   \n",
       "6           9     7         108.97                     1.0  Telekommunikation   \n",
       "\n",
       "  device_type  leadout_count  avg_leadout_count  avg_position  final_pos  \n",
       "2       Phone             13           1.431033      4.385766        4.0  \n",
       "6     Desktop              1           1.431033      4.385766        1.0  "
      ]
     },
     "execution_count": 21,
     "metadata": {},
     "output_type": "execute_result"
    }
   ],
   "source": [
    "df_1.head(2)"
   ]
  },
  {
   "cell_type": "code",
   "execution_count": 20,
   "metadata": {
    "scrolled": true
   },
   "outputs": [
    {
     "data": {
      "text/plain": [
       "array([[<AxesSubplot:title={'center':'leadout_click_position'}>]],\n",
       "      dtype=object)"
      ]
     },
     "execution_count": 20,
     "metadata": {},
     "output_type": "execute_result"
    },
    {
     "data": {
      "image/png": "[encoded data removed]",
      "text/plain": [
       "<Figure size 432x288 with 1 Axes>"
      ]
     },
     "metadata": {
      "needs_background": "light"
     },
     "output_type": "display_data"
    }
   ],
   "source": [
    "df_1.hist(column='leadout_click_position', range=[0,5],bins=10)"
   ]
  },
  {
   "cell_type": "code",
   "execution_count": 23,
   "metadata": {},
   "outputs": [
    {
     "data": {
      "text/html": [
       "<div>\n",
       "<style scoped>\n",
       "    .dataframe tbody tr th:only-of-type {\n",
       "        vertical-align: middle;\n",
       "    }\n",
       "\n",
       "    .dataframe tbody tr th {\n",
       "        vertical-align: top;\n",
       "    }\n",
       "\n",
       "    .dataframe thead th {\n",
       "        text-align: right;\n",
       "    }\n",
       "</style>\n",
       "<table border=\"1\" class=\"dataframe\">\n",
       "  <thead>\n",
       "    <tr style=\"text-align: right;\">\n",
       "      <th></th>\n",
       "      <th>year_month</th>\n",
       "      <th>hour</th>\n",
       "      <th>leadout_price</th>\n",
       "      <th>leadout_click_position</th>\n",
       "      <th>leadout_count</th>\n",
       "      <th>avg_leadout_count</th>\n",
       "      <th>avg_position</th>\n",
       "      <th>final_pos</th>\n",
       "    </tr>\n",
       "  </thead>\n",
       "  <tbody>\n",
       "    <tr>\n",
       "      <th>year_month</th>\n",
       "      <td>1.000000</td>\n",
       "      <td>0.000915</td>\n",
       "      <td>0.033219</td>\n",
       "      <td>0.007208</td>\n",
       "      <td>-0.013423</td>\n",
       "      <td>0.041305</td>\n",
       "      <td>-0.015262</td>\n",
       "      <td>0.007208</td>\n",
       "    </tr>\n",
       "    <tr>\n",
       "      <th>hour</th>\n",
       "      <td>0.000915</td>\n",
       "      <td>1.000000</td>\n",
       "      <td>-0.001150</td>\n",
       "      <td>0.002705</td>\n",
       "      <td>0.016688</td>\n",
       "      <td>0.010444</td>\n",
       "      <td>-0.020276</td>\n",
       "      <td>0.002705</td>\n",
       "    </tr>\n",
       "    <tr>\n",
       "      <th>leadout_price</th>\n",
       "      <td>0.033219</td>\n",
       "      <td>-0.001150</td>\n",
       "      <td>1.000000</td>\n",
       "      <td>0.023691</td>\n",
       "      <td>0.035778</td>\n",
       "      <td>0.099510</td>\n",
       "      <td>0.066540</td>\n",
       "      <td>0.023691</td>\n",
       "    </tr>\n",
       "    <tr>\n",
       "      <th>leadout_click_position</th>\n",
       "      <td>0.007208</td>\n",
       "      <td>0.002705</td>\n",
       "      <td>0.023691</td>\n",
       "      <td>1.000000</td>\n",
       "      <td>-0.032475</td>\n",
       "      <td>-0.011164</td>\n",
       "      <td>0.019159</td>\n",
       "      <td>1.000000</td>\n",
       "    </tr>\n",
       "    <tr>\n",
       "      <th>leadout_count</th>\n",
       "      <td>-0.013423</td>\n",
       "      <td>0.016688</td>\n",
       "      <td>0.035778</td>\n",
       "      <td>-0.032475</td>\n",
       "      <td>1.000000</td>\n",
       "      <td>0.085472</td>\n",
       "      <td>-0.000550</td>\n",
       "      <td>-0.032475</td>\n",
       "    </tr>\n",
       "    <tr>\n",
       "      <th>avg_leadout_count</th>\n",
       "      <td>0.041305</td>\n",
       "      <td>0.010444</td>\n",
       "      <td>0.099510</td>\n",
       "      <td>-0.011164</td>\n",
       "      <td>0.085472</td>\n",
       "      <td>1.000000</td>\n",
       "      <td>-0.041883</td>\n",
       "      <td>-0.011164</td>\n",
       "    </tr>\n",
       "    <tr>\n",
       "      <th>avg_position</th>\n",
       "      <td>-0.015262</td>\n",
       "      <td>-0.020276</td>\n",
       "      <td>0.066540</td>\n",
       "      <td>0.019159</td>\n",
       "      <td>-0.000550</td>\n",
       "      <td>-0.041883</td>\n",
       "      <td>1.000000</td>\n",
       "      <td>0.019159</td>\n",
       "    </tr>\n",
       "    <tr>\n",
       "      <th>final_pos</th>\n",
       "      <td>0.007208</td>\n",
       "      <td>0.002705</td>\n",
       "      <td>0.023691</td>\n",
       "      <td>1.000000</td>\n",
       "      <td>-0.032475</td>\n",
       "      <td>-0.011164</td>\n",
       "      <td>0.019159</td>\n",
       "      <td>1.000000</td>\n",
       "    </tr>\n",
       "  </tbody>\n",
       "</table>\n",
       "</div>"
      ],
      "text/plain": [
       "                        year_month      hour  leadout_price  \\\n",
       "year_month                1.000000  0.000915       0.033219   \n",
       "hour                      0.000915  1.000000      -0.001150   \n",
       "leadout_price             0.033219 -0.001150       1.000000   \n",
       "leadout_click_position    0.007208  0.002705       0.023691   \n",
       "leadout_count            -0.013423  0.016688       0.035778   \n",
       "avg_leadout_count         0.041305  0.010444       0.099510   \n",
       "avg_position             -0.015262 -0.020276       0.066540   \n",
       "final_pos                 0.007208  0.002705       0.023691   \n",
       "\n",
       "                        leadout_click_position  leadout_count  \\\n",
       "year_month                            0.007208      -0.013423   \n",
       "hour                                  0.002705       0.016688   \n",
       "leadout_price                         0.023691       0.035778   \n",
       "leadout_click_position                1.000000      -0.032475   \n",
       "leadout_count                        -0.032475       1.000000   \n",
       "avg_leadout_count                    -0.011164       0.085472   \n",
       "avg_position                          0.019159      -0.000550   \n",
       "final_pos                             1.000000      -0.032475   \n",
       "\n",
       "                        avg_leadout_count  avg_position  final_pos  \n",
       "year_month                       0.041305     -0.015262   0.007208  \n",
       "hour                             0.010444     -0.020276   0.002705  \n",
       "leadout_price                    0.099510      0.066540   0.023691  \n",
       "leadout_click_position          -0.011164      0.019159   1.000000  \n",
       "leadout_count                    0.085472     -0.000550  -0.032475  \n",
       "avg_leadout_count                1.000000     -0.041883  -0.011164  \n",
       "avg_position                    -0.041883      1.000000   0.019159  \n",
       "final_pos                       -0.011164      0.019159   1.000000  "
      ]
     },
     "execution_count": 23,
     "metadata": {},
     "output_type": "execute_result"
    }
   ],
   "source": [
    "import seaborn as sns\n",
    "import matplotlib.pyplot as plt\n",
    "df_1.corr()"
   ]
  },
  {
   "cell_type": "code",
   "execution_count": 24,
   "metadata": {},
   "outputs": [
    {
     "data": {
      "image/png": "[encoded data removed]",
      "text/plain": [
       "<Figure size 1152x432 with 2 Axes>"
      ]
     },
     "metadata": {
      "needs_background": "light"
     },
     "output_type": "display_data"
    }
   ],
   "source": [
    "plt.figure(figsize=(16, 6))\n",
    "# define the mask to set the values in the upper triangle to True\n",
    "mask = np.triu(np.ones_like(df_1[df_1.columns[~df_1.columns.isin(['final_pos','avg_leadout_count','avg_position'])]].corr(), dtype=np.bool))\n",
    "heatmap = sns.heatmap(df_1[df_1.columns[~df_1.columns.isin(['final_pos','avg_leadout_count','avg_position'])]].corr(), mask=mask, vmin=-1, vmax=1, annot=True, cmap='BrBG')\n",
    "heatmap.set_title('Triangle Correlation Heatmap', fontdict={'fontsize':18}, pad=16);"
   ]
  },
  {
   "cell_type": "code",
   "execution_count": 147,
   "metadata": {},
   "outputs": [
    {
     "data": {
      "image/png": "[encoded data removed]",
      "text/plain": [
       "<Figure size 576x864 with 2 Axes>"
      ]
     },
     "metadata": {
      "needs_background": "light"
     },
     "output_type": "display_data"
    }
   ],
   "source": [
    "plt.figure(figsize=(8, 12))\n",
    "heatmap = sns.heatmap(df[df.columns[~df.columns.isin(['final_pos','avg_leadout_count','avg_position'])]].corr()[['leadout_count']].sort_values(by='leadout_count', ascending=False), vmin=-1, vmax=1, annot=True, cmap='BrBG')\n",
    "heatmap.set_title('Features Correlating with leadout_count', fontdict={'fontsize':18}, pad=16);"
   ]
  },
  {
   "cell_type": "code",
   "execution_count": 148,
   "metadata": {},
   "outputs": [],
   "source": [
    "from sklearn.model_selection import train_test_split\n",
    "from sklearn.ensemble import RandomForestRegressor\n",
    "from sklearn.metrics import r2_score,mean_squared_error"
   ]
  },
  {
   "cell_type": "code",
   "execution_count": 149,
   "metadata": {},
   "outputs": [],
   "source": [
    "features=df[df.columns[~df.columns.isin(['leadout_click_position','avg_leadout_count','avg_position'])]]\n",
    "features = pd.get_dummies(features)"
   ]
  },
  {
   "cell_type": "code",
   "execution_count": 155,
   "metadata": {},
   "outputs": [
    {
     "data": {
      "text/plain": [
       "array([[  1.  ,   0.  , 720.26, ...,   0.  ,   0.  ,   0.  ],\n",
       "       [  6.  ,  20.  ,  39.99, ...,   0.  ,   0.  ,   0.  ],\n",
       "       [ 12.  ,  16.  , 199.  , ...,   0.  ,   0.  ,   0.  ],\n",
       "       ...,\n",
       "       [  2.  ,  21.  , 144.5 , ...,   0.  ,   0.  ,   0.  ],\n",
       "       [ 11.  ,  10.  , 243.9 , ...,   0.  ,   0.  ,   0.  ],\n",
       "       [ 11.  ,  11.  ,  36.49, ...,   0.  ,   0.  ,   0.  ]])"
      ]
     },
     "execution_count": 155,
     "metadata": {},
     "output_type": "execute_result"
    }
   ],
   "source": [
    "features"
   ]
  },
  {
   "cell_type": "code",
   "execution_count": 150,
   "metadata": {},
   "outputs": [],
   "source": [
    "# Labels are the values we want to predict\n",
    "labels = np.array(features['leadout_count'])\n",
    "# Remove the labels from the features\n",
    "# axis 1 refers to the columns\n",
    "features= features.drop('leadout_count', axis = 1)\n",
    "# Saving feature names for later use\n",
    "feature_list = list(features.columns)\n",
    "# Convert to numpy array\n",
    "features = np.array(features)"
   ]
  },
  {
   "cell_type": "code",
   "execution_count": 151,
   "metadata": {},
   "outputs": [],
   "source": [
    "\n",
    "# Split the data into training and testing sets\n",
    "train_features, test_features, train_labels, test_labels = train_test_split(features, labels, test_size = 0.20, random_state = 42)\n"
   ]
  },
  {
   "cell_type": "code",
   "execution_count": 159,
   "metadata": {},
   "outputs": [
    {
     "data": {
      "text/plain": [
       "array([1, 1, 2, ..., 1, 1, 1])"
      ]
     },
     "execution_count": 159,
     "metadata": {},
     "output_type": "execute_result"
    }
   ],
   "source": [
    "test_labels"
   ]
  },
  {
   "cell_type": "code",
   "execution_count": 152,
   "metadata": {},
   "outputs": [
    {
     "name": "stdout",
     "output_type": "stream",
     "text": [
      "Training Features Shape: (35025903, 28)\n",
      "Training Labels Shape: (35025903,)\n",
      "Testing Features Shape: (8756476, 28)\n",
      "Testing Labels Shape: (8756476,)\n"
     ]
    }
   ],
   "source": [
    "print('Training Features Shape:', train_features.shape)\n",
    "print('Training Labels Shape:', train_labels.shape)\n",
    "print('Testing Features Shape:', test_features.shape)\n",
    "print('Testing Labels Shape:', test_labels.shape)"
   ]
  },
  {
   "cell_type": "code",
   "execution_count": 158,
   "metadata": {},
   "outputs": [
    {
     "data": {
      "text/plain": [
       "['year_month',\n",
       " 'hour',\n",
       " 'leadout_price',\n",
       " 'final_pos',\n",
       " 'sub_category_name_Bartschneider & Haarschneider',\n",
       " 'sub_category_name_Computer',\n",
       " 'sub_category_name_Drucker & Scanner',\n",
       " 'sub_category_name_Elektrische Zahnbürste',\n",
       " 'sub_category_name_Fotografie',\n",
       " 'sub_category_name_Gaming- & Elektrospielzeug',\n",
       " 'sub_category_name_Haushaltselektronik',\n",
       " 'sub_category_name_HiFi & Audio',\n",
       " 'sub_category_name_Medien',\n",
       " 'sub_category_name_TV & Sat',\n",
       " 'sub_category_name_Telekommunikation',\n",
       " 'device_type_Anonymized',\n",
       " 'device_type_Desktop',\n",
       " 'device_type_Game Console',\n",
       " 'device_type_Hacker',\n",
       " 'device_type_Mobile',\n",
       " 'device_type_Phone',\n",
       " 'device_type_Robot',\n",
       " 'device_type_Robot Mobile',\n",
       " 'device_type_Set-top box',\n",
       " 'device_type_TV',\n",
       " 'device_type_Tablet',\n",
       " 'device_type_Unknown',\n",
       " 'device_type_Virtual Reality']"
      ]
     },
     "execution_count": 158,
     "metadata": {},
     "output_type": "execute_result"
    }
   ],
   "source": [
    "feature_list"
   ]
  },
  {
   "cell_type": "code",
   "execution_count": 161,
   "metadata": {},
   "outputs": [
    {
     "name": "stdout",
     "output_type": "stream",
     "text": [
      "Average baseline error:  0.74\n"
     ]
    }
   ],
   "source": [
    "# The baseline predictions are the historical averages\n",
    "baseline_preds = test_labels.mean()\n",
    "# Baseline errors, and display average baseline error\n",
    "baseline_errors = abs(baseline_preds - test_labels)\n",
    "print('Average baseline error: ', round(np.mean(baseline_errors), 2))"
   ]
  },
  {
   "cell_type": "code",
   "execution_count": null,
   "metadata": {},
   "outputs": [],
   "source": [
    "# Import the model we are using\n",
    "from sklearn.ensemble import RandomForestRegressor\n",
    "# Instantiate model with 1000 decision trees\n",
    "rf = RandomForestRegressor(n_estimators = 1000, random_state = 42)\n",
    "# Train the model on training data\n",
    "rf.fit(train_features, train_labels);"
   ]
  },
  {
   "cell_type": "code",
   "execution_count": null,
   "metadata": {},
   "outputs": [],
   "source": [
    "# Use the forest's predict method on the test data\n",
    "predictions = rf.predict(test_features)\n",
    "# Calculate the absolute errors\n",
    "errors = abs(predictions - test_labels)\n",
    "# Print out the mean absolute error (mae)\n",
    "print('Mean Absolute Error:', round(np.mean(errors), 2), 'degrees.')"
   ]
  },
  {
   "cell_type": "code",
   "execution_count": null,
   "metadata": {},
   "outputs": [],
   "source": [
    "# Calculate mean absolute percentage error (MAPE)\n",
    "mape = 100 * (errors / test_labels)\n",
    "# Calculate and display accuracy\n",
    "accuracy = 100 - np.mean(mape)\n",
    "print('Accuracy:', round(accuracy, 2), '%.')"
   ]
  },
  {
   "cell_type": "code",
   "execution_count": null,
   "metadata": {},
   "outputs": [],
   "source": [
    "# Limit depth of tree to 3 levels\n",
    "rf_small = RandomForestRegressor(n_estimators=10, max_depth = 3)\n",
    "rf_small.fit(train_features, train_labels)\n",
    "# Extract the small tree\n",
    "tree_small = rf_small.estimators_[5]\n",
    "# Save the tree as a png image\n",
    "export_graphviz(tree_small, out_file = 'small_tree.dot', feature_names = feature_list, rounded = True, precision = 1)\n",
    "(graph, ) = pydot.graph_from_dot_file('small_tree.dot')\n",
    "graph.write_png('small_tree.png');"
   ]
  },
  {
   "cell_type": "code",
   "execution_count": null,
   "metadata": {},
   "outputs": [],
   "source": [
    "# Get numerical feature importances\n",
    "importances = list(rf.feature_importances_)\n",
    "# List of tuples with variable and importance\n",
    "feature_importances = [(feature, round(importance, 2)) for feature, importance in zip(feature_list, importances)]\n",
    "# Sort the feature importances by most important first\n",
    "feature_importances = sorted(feature_importances, key = lambda x: x[1], reverse = True)\n",
    "# Print out the feature and importances \n",
    "[print('Variable: {:20} Importance: {}'.format(*pair)) for pair in feature_importances];"
   ]
  },
  {
   "cell_type": "code",
   "execution_count": null,
   "metadata": {},
   "outputs": [],
   "source": []
  },
  {
   "cell_type": "code",
   "execution_count": null,
   "metadata": {},
   "outputs": [],
   "source": []
  },
  {
   "cell_type": "code",
   "execution_count": null,
   "metadata": {},
   "outputs": [],
   "source": []
  }
 ],
 "metadata": {
  "kernelspec": {
   "display_name": "Python 3",
   "language": "python",
   "name": "python3"
  },
  "language_info": {
   "codemirror_mode": {
    "name": "ipython",
    "version": 3
   },
   "file_extension": ".py",
   "mimetype": "text/x-python",
   "name": "python",
   "nbconvert_exporter": "python",
   "pygments_lexer": "ipython3",
   "version": "3.8.5"
  }
 },
 "nbformat": 4,
 "nbformat_minor": 4
}
